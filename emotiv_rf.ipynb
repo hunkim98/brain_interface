{
 "cells": [
  {
   "cell_type": "code",
   "execution_count": 1,
   "metadata": {},
   "outputs": [],
   "source": [
    "import mne\n",
    "import os\n",
    "import numpy as np"
   ]
  },
  {
   "cell_type": "code",
   "execution_count": 2,
   "metadata": {},
   "outputs": [],
   "source": [
    "import pandas as pd\n",
    "\n",
    "data_path = \"data/emotiv/EP1.01.txt\"\n",
    "\n",
    "df_emotiv = pd.read_csv(data_path, sep='\\t', header=None)\n",
    "\n"
   ]
  },
  {
   "cell_type": "code",
   "execution_count": 3,
   "metadata": {},
   "outputs": [
    {
     "data": {
      "text/html": [
       "<div>\n",
       "<style scoped>\n",
       "    .dataframe tbody tr th:only-of-type {\n",
       "        vertical-align: middle;\n",
       "    }\n",
       "\n",
       "    .dataframe tbody tr th {\n",
       "        vertical-align: top;\n",
       "    }\n",
       "\n",
       "    .dataframe thead th {\n",
       "        text-align: right;\n",
       "    }\n",
       "</style>\n",
       "<table border=\"1\" class=\"dataframe\">\n",
       "  <thead>\n",
       "    <tr style=\"text-align: right;\">\n",
       "      <th></th>\n",
       "      <th>id</th>\n",
       "      <th>event</th>\n",
       "      <th>device</th>\n",
       "      <th>channel</th>\n",
       "      <th>code</th>\n",
       "      <th>size</th>\n",
       "      <th>data</th>\n",
       "    </tr>\n",
       "  </thead>\n",
       "  <tbody>\n",
       "    <tr>\n",
       "      <th>0</th>\n",
       "      <td>67635</td>\n",
       "      <td>67635</td>\n",
       "      <td>EP</td>\n",
       "      <td>AF3</td>\n",
       "      <td>6</td>\n",
       "      <td>260</td>\n",
       "      <td>[4395.384615, 4382.564102, 4377.435897, 4387.1...</td>\n",
       "    </tr>\n",
       "    <tr>\n",
       "      <th>1</th>\n",
       "      <td>67636</td>\n",
       "      <td>67635</td>\n",
       "      <td>EP</td>\n",
       "      <td>F7</td>\n",
       "      <td>6</td>\n",
       "      <td>260</td>\n",
       "      <td>[4489.230769, 4475.384615, 4474.358974, 4486.6...</td>\n",
       "    </tr>\n",
       "    <tr>\n",
       "      <th>2</th>\n",
       "      <td>67637</td>\n",
       "      <td>67635</td>\n",
       "      <td>EP</td>\n",
       "      <td>F3</td>\n",
       "      <td>6</td>\n",
       "      <td>260</td>\n",
       "      <td>[4538.461538, 4528.717948, 4524.615384, 4526.1...</td>\n",
       "    </tr>\n",
       "    <tr>\n",
       "      <th>3</th>\n",
       "      <td>67638</td>\n",
       "      <td>67635</td>\n",
       "      <td>EP</td>\n",
       "      <td>FC5</td>\n",
       "      <td>6</td>\n",
       "      <td>260</td>\n",
       "      <td>[4207.692307, 4205.641025, 4200.51282, 4194.35...</td>\n",
       "    </tr>\n",
       "    <tr>\n",
       "      <th>4</th>\n",
       "      <td>67639</td>\n",
       "      <td>67635</td>\n",
       "      <td>EP</td>\n",
       "      <td>T7</td>\n",
       "      <td>6</td>\n",
       "      <td>260</td>\n",
       "      <td>[4497.948717, 4498.461538, 4494.871794, 4497.9...</td>\n",
       "    </tr>\n",
       "  </tbody>\n",
       "</table>\n",
       "</div>"
      ],
      "text/plain": [
       "      id  event device channel  code  size  \\\n",
       "0  67635  67635     EP     AF3     6   260   \n",
       "1  67636  67635     EP      F7     6   260   \n",
       "2  67637  67635     EP      F3     6   260   \n",
       "3  67638  67635     EP     FC5     6   260   \n",
       "4  67639  67635     EP      T7     6   260   \n",
       "\n",
       "                                                data  \n",
       "0  [4395.384615, 4382.564102, 4377.435897, 4387.1...  \n",
       "1  [4489.230769, 4475.384615, 4474.358974, 4486.6...  \n",
       "2  [4538.461538, 4528.717948, 4524.615384, 4526.1...  \n",
       "3  [4207.692307, 4205.641025, 4200.51282, 4194.35...  \n",
       "4  [4497.948717, 4498.461538, 4494.871794, 4497.9...  "
      ]
     },
     "execution_count": 3,
     "metadata": {},
     "output_type": "execute_result"
    }
   ],
   "source": [
    "df_emotiv.columns = ['id', 'event', 'device', 'channel', 'code', 'size', 'data']\n",
    "df_emotiv['data'] = df_emotiv['data'].apply(lambda x: list(map(float, x.split(','))))\n",
    "df_emotiv.head()"
   ]
  },
  {
   "cell_type": "code",
   "execution_count": 4,
   "metadata": {},
   "outputs": [],
   "source": [
    "import numpy as np\n",
    "import pandas as pd\n",
    "from scipy.signal import butter, filtfilt, lfilter\n",
    "\n",
    "def butter_bandpass(lowcut, highcut, fs, order=4):\n",
    "    nyquist = 0.5 * fs\n",
    "    low = lowcut / nyquist\n",
    "    high = highcut / nyquist\n",
    "    b, a = butter(order, [low, high], btype='band')\n",
    "    return b, a\n",
    "\n",
    "def bandpass_filter(data, lowcut, highcut, fs, order=4):\n",
    "    b, a = butter_bandpass(lowcut, highcut, fs, order=order)\n",
    "    y = lfilter(b, a, data)\n",
    "    # y = filtfilt(b, a, data)\n",
    "    return y"
   ]
  },
  {
   "cell_type": "code",
   "execution_count": 5,
   "metadata": {},
   "outputs": [],
   "source": [
    "# bandpass filter for each row's data column (which is a list of floats)\n",
    "lowcut = 0.5\n",
    "highcut = 30\n",
    "fs = 128\n",
    "\n",
    "df_emotiv_copy = df_emotiv.copy()\n",
    "\n",
    "df_emotiv_copy['data'] = df_emotiv['data'].apply(lambda x: bandpass_filter(x, lowcut, highcut, fs))\n"
   ]
  },
  {
   "cell_type": "code",
   "execution_count": 6,
   "metadata": {},
   "outputs": [],
   "source": [
    "df_emotiv_copy[\"size\"].unique()\n",
    "# get smallest size\n",
    "min_size = df_emotiv_copy[\"size\"].min()\n",
    "# shorten all data columns to min_size\n",
    "df_emotiv_copy['data'] = df_emotiv_copy['data'].apply(lambda x: x[:min_size])"
   ]
  },
  {
   "cell_type": "code",
   "execution_count": 7,
   "metadata": {},
   "outputs": [
    {
     "data": {
      "text/plain": [
       "array([136])"
      ]
     },
     "execution_count": 7,
     "metadata": {},
     "output_type": "execute_result"
    }
   ],
   "source": [
    "# print all length of data columns\n",
    "df_emotiv_copy['data'].apply(len).unique()\n"
   ]
  },
  {
   "cell_type": "code",
   "execution_count": 20,
   "metadata": {},
   "outputs": [],
   "source": [
    "import numpy as np\n",
    "import matplotlib.pyplot as plt\n",
    "from scipy.signal import stft\n",
    "\n",
    "def compute_stft_for_segment(segment, fs, n_fft=256, hop_length=128):\n",
    "    \"\"\"\n",
    "    Compute STFT for a multi-channel EEG segment.\n",
    "    Args:\n",
    "        segment: 2D array of shape (256, 14), where rows are time points and columns are channels.\n",
    "        fs: Sampling frequency in Hz.\n",
    "        n_fft: Number of FFT points.\n",
    "        hop_length: Number of overlapping samples between windows.\n",
    "    Returns:\n",
    "        stft_results: 3D array of shape (n_channels, n_freq_bins, n_time_frames)\n",
    "                      containing the magnitude spectrograms for each channel.\n",
    "    \"\"\"\n",
    "    stft_results = []\n",
    "\n",
    "    # Compute STFT for each channel\n",
    "    _, _, Zxx = stft(segment, fs, nperseg=n_fft, noverlap=hop_length)\n",
    "    stft_results.append(np.abs(Zxx))  # Use magnitude spectrogram\n",
    "    \n",
    "    return np.array(stft_results)  # Shape: (n_channels, n_freq_bins, n_time_frames)\n"
   ]
  },
  {
   "cell_type": "code",
   "execution_count": 21,
   "metadata": {},
   "outputs": [
    {
     "data": {
      "text/plain": [
       "0         [319.95956051800994, 1666.1927774765552, 3682....\n",
       "1         [326.79103872077593, 1701.7130372662098, 3761....\n",
       "2         [330.3747649684057, 1720.6844263083037, 3803.7...\n",
       "3         [306.296604112478, 1595.786876110437, 3529.054...\n",
       "4         [327.4256568611725, 1706.064922511325, 3773.66...\n",
       "                                ...                        \n",
       "910471    [329.62815534864836, 1717.354228389748, 3798.2...\n",
       "910472    [307.97647579332926, 1604.502394987476, 3549.2...\n",
       "910473    [333.1372206343024, 1735.7872799909135, 3839.9...\n",
       "910474    [287.4820413306202, 1497.754963935756, 3312.54...\n",
       "910475    [285.72750868779315, 1488.575768579764, 3292.8...\n",
       "Name: data, Length: 910476, dtype: object"
      ]
     },
     "execution_count": 21,
     "metadata": {},
     "output_type": "execute_result"
    }
   ],
   "source": [
    "df_emotiv_copy[\"data\"]"
   ]
  },
  {
   "cell_type": "code",
   "execution_count": 22,
   "metadata": {},
   "outputs": [],
   "source": [
    "# change data column to stft results\n",
    "n_fft  = min_size // 2\n",
    "hop_length = n_fft // 2\n",
    "\n",
    "df_emotiv_copy['stft'] = df_emotiv_copy['data'].apply(lambda x: compute_stft_for_segment(np.array(x), fs, n_fft, hop_length))\n"
   ]
  },
  {
   "cell_type": "code",
   "execution_count": 23,
   "metadata": {},
   "outputs": [],
   "source": [
    "# normalize stft results by max - min\n",
    "df_emotiv_copy['stft'] = df_emotiv_copy['stft'].apply(lambda x: (x - np.min(x)) / (np.max(x) - np.min(x)))"
   ]
  },
  {
   "cell_type": "code",
   "execution_count": 25,
   "metadata": {},
   "outputs": [
    {
     "data": {
      "text/plain": [
       "(175,)"
      ]
     },
     "execution_count": 25,
     "metadata": {},
     "output_type": "execute_result"
    }
   ],
   "source": [
    "# flatten stft results\n",
    "df_emotiv_copy['stft_flattened'] = df_emotiv_copy['stft'].apply(lambda x: x.flatten())\n",
    "df_emotiv_copy['stft_flattened'][0].shape"
   ]
  },
  {
   "cell_type": "code",
   "execution_count": 27,
   "metadata": {},
   "outputs": [
    {
     "data": {
      "text/plain": [
       "array(['AF3', 'F7', 'F3', 'FC5', 'T7', 'P7', 'O1', 'O2', 'P8', 'T8',\n",
       "       'FC6', 'F4', 'F8', 'AF4'], dtype=object)"
      ]
     },
     "execution_count": 27,
     "metadata": {},
     "output_type": "execute_result"
    }
   ],
   "source": [
    "# need to create channel columns\n",
    "# get number of channels\n",
    "df_emotiv_copy[\"channel\"].unique()"
   ]
  },
  {
   "cell_type": "code",
   "execution_count": 28,
   "metadata": {},
   "outputs": [
    {
     "data": {
      "text/plain": [
       "Index(['id', 'event', 'device', 'channel', 'code', 'size', 'data', 'stft',\n",
       "       'stft_flattened'],\n",
       "      dtype='object')"
      ]
     },
     "execution_count": 28,
     "metadata": {},
     "output_type": "execute_result"
    }
   ],
   "source": [
    "df_emotiv_copy.columns"
   ]
  },
  {
   "cell_type": "code",
   "execution_count": 30,
   "metadata": {},
   "outputs": [
    {
     "data": {
      "text/plain": [
       "65034"
      ]
     },
     "execution_count": 30,
     "metadata": {},
     "output_type": "execute_result"
    }
   ],
   "source": [
    "# group by the id \n",
    "len(df_emotiv_copy[\"event\"].unique())"
   ]
  },
  {
   "cell_type": "code",
   "execution_count": 41,
   "metadata": {},
   "outputs": [
    {
     "name": "stdout",
     "output_type": "stream",
     "text": [
      "Empty DataFrame\n",
      "Columns: [id, event, device, channel, code, size, data, stft, stft_flattened]\n",
      "Index: []\n"
     ]
    }
   ],
   "source": [
    "# we need to group by event \n",
    "df_emotiv_grouped = df_emotiv_copy.groupby(\"event\")\n",
    "\n",
    "channels = df_emotiv_copy[\"channel\"].unique()\n",
    "# after grouping them we need to concatenate the data based on channels\n",
    "\n",
    "# create a new data frame with the same columns\n",
    "df_final = pd.DataFrame(columns=df_emotiv_copy.columns)\n",
    "\n",
    "print(df_final)\n",
    "\n",
    "temp_df_final = {}\n",
    "\n",
    "for col in df_emotiv_copy.columns:\n",
    "    temp_df_final[col] = []\n",
    "\n",
    "# Step 3: Build the new DataFrame row by row\n",
    "for event, group in df_emotiv_grouped:\n",
    "    # Initialize a new row\n",
    "    sorted_data_by_channels = group[\"data\"]\n",
    "    new_row = {\n",
    "        \"id\": group[\"id\"].values[0],  # Use the first ID for the group\n",
    "        \"event\": event,               # Use the current event\n",
    "        \"device\": group[\"device\"].values[0],  # Use the first device for the group\n",
    "        \"channel\": \"all\",             # Consolidate channels\n",
    "        \"code\": group[\"code\"].values[0],  # Use the first code\n",
    "        \"size\": group[\"size\"].values[0],  # Use the first size\n",
    "        \"data\": np.concatenate(group[\"data\"].values),  # Concatenate data arrays\n",
    "        \"stft\": np.concatenate(group[\"stft\"].values, axis=0),  # Concatenate along frequency/time axis\n",
    "        \"stft_flattened\": np.concatenate(group[\"stft_flattened\"].values),  # Flattened concatenation\n",
    "    }\n",
    "    # Append the new row to the final DataFrame\n",
    "    df_final = pd.concat([df_final, pd.DataFrame([new_row])], ignore_index=True)"
   ]
  },
  {
   "cell_type": "code",
   "execution_count": 59,
   "metadata": {},
   "outputs": [
    {
     "name": "stdout",
     "output_type": "stream",
     "text": [
      "(14, 35, 5)\n",
      "(2450,)\n"
     ]
    }
   ],
   "source": [
    "print(df_final[\"stft\"][0].shape)\n",
    "print(df_final[\"stft_flattened\"][0].shape)\n",
    "\n",
    "# change code of -1 to 10\n",
    "df_final[\"code\"] = df_final[\"code\"].apply(lambda x: 10 if x == -1 else x)"
   ]
  },
  {
   "cell_type": "code",
   "execution_count": 64,
   "metadata": {},
   "outputs": [
    {
     "name": "stdout",
     "output_type": "stream",
     "text": [
      "(65034, 2450) (65034,)\n",
      "[ 6  7  9  0  8  5  3  4  2  1 10]\n",
      "(65034, 2450) (65034,)\n",
      "id                0\n",
      "event             0\n",
      "device            0\n",
      "channel           0\n",
      "code              0\n",
      "size              0\n",
      "data              0\n",
      "stft              0\n",
      "stft_flattened    0\n",
      "dtype: int64\n"
     ]
    }
   ],
   "source": [
    "X = np.array(df_final['stft_flattened'].tolist())\n",
    "y = df_final[\"code\"].values\n",
    "print(X.shape, y.shape)\n",
    "print(df_final[\"code\"].unique())\n",
    "\n",
    "# since the size is to big let us randomly choose 5000 samples\n",
    "import random\n",
    "random.seed(42)\n",
    "n_samples = 5000\n",
    "\n",
    "# random_indices = random.sample(range(X.shape[0]), n_samples)\n",
    "# X = X[random_indices]\n",
    "# y = y[random_indices]\n",
    "\n",
    "print(X.shape, y.shape)\n",
    "\n",
    "print(df_final.isnull().sum())"
   ]
  },
  {
   "cell_type": "code",
   "execution_count": 65,
   "metadata": {},
   "outputs": [
    {
     "name": "stdout",
     "output_type": "stream",
     "text": [
      "X shape: (65034, 2450)\n",
      "y shape: (65034,)\n",
      "Training set shape: (45523, 2450)\n",
      "Validation set shape: (9755, 2450)\n",
      "Test set shape: (9756, 2450)\n"
     ]
    }
   ],
   "source": [
    "from sklearn.model_selection import train_test_split\n",
    "\n",
    "print(\"X shape:\", X.shape)\n",
    "print(\"y shape:\", y.shape)\n",
    "\n",
    "# Split data into train, validation, and test sets\n",
    "X_train, X_temp, y_train, y_temp = train_test_split(X, y, test_size=0.3, random_state=42)\n",
    "X_val, X_test, y_val, y_test = train_test_split(X_temp, y_temp, test_size=0.5, random_state=42)\n",
    "\n",
    "print(\"Training set shape:\", X_train.shape)\n",
    "print(\"Validation set shape:\", X_val.shape)\n",
    "print(\"Test set shape:\", X_test.shape)\n",
    "\n",
    "# since the size is too big we "
   ]
  },
  {
   "cell_type": "code",
   "execution_count": 66,
   "metadata": {},
   "outputs": [
    {
     "name": "stdout",
     "output_type": "stream",
     "text": [
      "Train accuracy: 1.0000\n",
      "Validation accuracy: 0.1079\n",
      "Test accuracy: 0.1139\n"
     ]
    }
   ],
   "source": [
    "# create a random forest model\n",
    "from sklearn.ensemble import RandomForestClassifier\n",
    "\n",
    "# Create a random forest classifier\n",
    "rf = RandomForestClassifier(n_estimators=100, random_state=42)\n",
    "\n",
    "# Train the classifier\n",
    "rf.fit(X_train, y_train)\n",
    "\n",
    "# Evaluate the classifier\n",
    "train_score = rf.score(X_train, y_train)\n",
    "val_score = rf.score(X_val, y_val)\n",
    "test_score = rf.score(X_test, y_test)\n",
    "\n",
    "print(f\"Train accuracy: {train_score:.4f}\")\n",
    "print(f\"Validation accuracy: {val_score:.4f}\")\n",
    "print(f\"Test accuracy: {test_score:.4f}\")"
   ]
  },
  {
   "cell_type": "code",
   "execution_count": 67,
   "metadata": {},
   "outputs": [
    {
     "data": {
      "image/png": "[encoded data removed]",
      "text/plain": [
       "<Figure size 1000x800 with 2 Axes>"
      ]
     },
     "metadata": {},
     "output_type": "display_data"
    }
   ],
   "source": [
    "# plot confusion matrix\n",
    "from sklearn.metrics import confusion_matrix\n",
    "import seaborn as sns\n",
    "import matplotlib\n",
    "import matplotlib.pyplot as plt\n",
    "\n",
    "# Predict labels for the test set\n",
    "y_pred = rf.predict(X_test)\n",
    "\n",
    "# Compute the confusion matrix\n",
    "conf_matrix = confusion_matrix(y_test, y_pred)\n",
    "\n",
    "labels = np.unique(y)\n",
    "\n",
    "# Plot the confusion matrix\n",
    "plt.figure(figsize=(10, 8))\n",
    "sns.heatmap(conf_matrix, annot=True, fmt=\"d\", cmap=\"Blues\", xticklabels=labels, yticklabels=labels)\n",
    "plt.title(\"Confusion Matrix\")\n",
    "plt.xlabel(\"Predicted Labels\")\n",
    "plt.ylabel(\"True Labels\")\n",
    "plt.show()"
   ]
  },
  {
   "cell_type": "code",
   "execution_count": 18,
   "metadata": {},
   "outputs": [],
   "source": [
    "# # save the rf stft model\n",
    "# import joblib\n",
    "\n",
    "# # Save the model\n",
    "# joblib.dump(rf, \"rf_stft_model.joblib\")"
   ]
  },
  {
   "cell_type": "code",
   "execution_count": 74,
   "metadata": {},
   "outputs": [
    {
     "name": "stdout",
     "output_type": "stream",
     "text": [
      "X shape: (65034, 14, 35, 5)\n",
      "y shape: (65034,)\n"
     ]
    }
   ],
   "source": [
    "import torch\n",
    "from torch.utils.data import Dataset, DataLoader\n",
    "\n",
    "class EEGDataset(Dataset):\n",
    "    def __init__(self, data, labels):\n",
    "        \"\"\"\n",
    "        Args:\n",
    "            data: A NumPy array of shape (num_samples, channels, height, width).\n",
    "            labels: A NumPy array of shape (num_samples,) with classification labels.\n",
    "        \"\"\"\n",
    "        self.data = torch.tensor(data, dtype=torch.float32)  # Convert data to tensor\n",
    "        self.labels = torch.tensor(labels, dtype=torch.long)  # Convert labels to tensor\n",
    "\n",
    "    def __len__(self):\n",
    "        return len(self.data)\n",
    "\n",
    "    def __getitem__(self, idx):\n",
    "        x = self.data[idx]  # Shape: (channels, height, width)\n",
    "        y = self.labels[idx]  # Shape: ()\n",
    "        return x, y\n",
    "    \n",
    "X = np.array(df_final['stft'].tolist())\n",
    "y = df_final['code'].values\n",
    "\n",
    "print(\"X shape:\", X.shape)\n",
    "print(\"y shape:\", y.shape)\n",
    "\n",
    "# Split data into train, validation, and test sets\n",
    "X_train, X_temp, y_train, y_temp = train_test_split(X, y, test_size=0.3, random_state=42)\n",
    "X_val, X_test, y_val, y_test = train_test_split(X_temp, y_temp, test_size=0.5, random_state=42)\n",
    "\n",
    "\n",
    "# Create PyTorch Datasets\n",
    "train_dataset = EEGDataset(X_train, y_train)\n",
    "val_dataset = EEGDataset(X_val, y_val)\n",
    "test_dataset = EEGDataset(X_test, y_test)\n"
   ]
  },
  {
   "cell_type": "code",
   "execution_count": 75,
   "metadata": {},
   "outputs": [
    {
     "data": {
      "text/plain": [
       "(45523, 14, 35, 5)"
      ]
     },
     "execution_count": 75,
     "metadata": {},
     "output_type": "execute_result"
    }
   ],
   "source": [
    "X_train.shape"
   ]
  },
  {
   "cell_type": "code",
   "execution_count": 82,
   "metadata": {},
   "outputs": [
    {
     "name": "stdout",
     "output_type": "stream",
     "text": [
      "EEGCNN(\n",
      "  (conv1): Conv2d(14, 16, kernel_size=(3, 3), stride=(1, 1), padding=(1, 1))\n",
      "  (pool1): MaxPool2d(kernel_size=(2, 1), stride=(2, 1), padding=0, dilation=1, ceil_mode=False)\n",
      "  (conv2): Conv2d(16, 32, kernel_size=(3, 3), stride=(1, 1), padding=(1, 1))\n",
      "  (pool2): MaxPool2d(kernel_size=(2, 1), stride=(2, 1), padding=0, dilation=1, ceil_mode=False)\n",
      "  (conv3): Conv2d(32, 64, kernel_size=(3, 3), stride=(1, 1), padding=(1, 1))\n",
      "  (pool3): MaxPool2d(kernel_size=(2, 1), stride=(2, 1), padding=0, dilation=1, ceil_mode=False)\n",
      "  (fc1): Linear(in_features=1280, out_features=128, bias=True)\n",
      "  (fc2): Linear(in_features=128, out_features=11, bias=True)\n",
      ")\n"
     ]
    }
   ],
   "source": [
    "import torch.nn as nn\n",
    "import torch.nn.functional as F\n",
    "\n",
    "class EEGCNN(nn.Module):\n",
    "    def __init__(self, input_channels, num_classes):\n",
    "        super(EEGCNN, self).__init__()\n",
    "        self.conv1 = nn.Conv2d(input_channels, 16, kernel_size=3, stride=1, padding=(1, 1))  # Conv1\n",
    "        self.pool1 = nn.MaxPool2d(kernel_size=(2, 1))  # Pool only height\n",
    "\n",
    "        self.conv2 = nn.Conv2d(16, 32, kernel_size=3, stride=1, padding=(1, 1))  # Conv2\n",
    "        self.pool2 = nn.MaxPool2d(kernel_size=(2, 1))  # Pool only height\n",
    "\n",
    "        self.conv3 = nn.Conv2d(32, 64, kernel_size=3, stride=1, padding=(1, 1))  # Conv3\n",
    "        self.pool3 = nn.MaxPool2d(kernel_size=(2, 1))  # Pool only height\n",
    "\n",
    "        # Calculate flattened size\n",
    "        # we need to calculate this dynamically\n",
    "        \n",
    "        self.fc1 = nn.Linear(1280, 128)\n",
    "        self.fc2 = nn.Linear(128, num_classes)\n",
    "    \n",
    "    def forward(self, x):\n",
    "        x = F.relu(self.conv1(x))\n",
    "        x = self.pool1(x)\n",
    "        x = F.relu(self.conv2(x))\n",
    "        x = self.pool2(x)\n",
    "        x = F.relu(self.conv3(x))\n",
    "        x = self.pool3(x)\n",
    "        x = x.view(x.size(0), -1)  # Flatten\n",
    "        x = F.relu(self.fc1(x))\n",
    "        x = self.fc2(x)\n",
    "        return x\n",
    "\n",
    "\n",
    "\n",
    "\n",
    "# Define model\n",
    "\n",
    "input_channels = X_train.shape[1]  # Number of channels in the input data\n",
    "num_classes = len(labels)  # Number of classes\n",
    "model = EEGCNN(input_channels, num_classes)\n",
    "print(model)"
   ]
  },
  {
   "cell_type": "code",
   "execution_count": 83,
   "metadata": {},
   "outputs": [],
   "source": [
    "import torch.optim as optim\n",
    "\n",
    "# Define loss and optimizer\n",
    "criterion = nn.CrossEntropyLoss()\n",
    "optimizer = optim.Adam(model.parameters(), lr=0.001)\n",
    "\n",
    "# Training function\n",
    "def train_model(model, train_loader, val_loader, num_epochs):\n",
    "    model.train()\n",
    "    for epoch in range(num_epochs):\n",
    "        running_loss = 0.0\n",
    "        for inputs, labels in train_loader:\n",
    "            optimizer.zero_grad()\n",
    "            outputs = model(inputs)\n",
    "            loss = criterion(outputs, labels)\n",
    "            loss.backward()\n",
    "            optimizer.step()\n",
    "            running_loss += loss.item()\n",
    "        \n",
    "        val_loss, val_acc = validate_model(model, val_loader)\n",
    "        print(f\"Epoch {epoch + 1}/{num_epochs}, Loss: {running_loss:.4f}, Val Loss: {val_loss:.4f}, Val Acc: {val_acc:.4f}\")\n",
    "\n",
    "# Validation function\n",
    "def validate_model(model, val_loader):\n",
    "    model.eval()\n",
    "    val_loss = 0.0\n",
    "    correct = 0\n",
    "    total = 0\n",
    "    with torch.no_grad():\n",
    "        for inputs, labels in val_loader:\n",
    "            outputs = model(inputs)\n",
    "            loss = criterion(outputs, labels)\n",
    "            val_loss += loss.item()\n",
    "            _, predicted = torch.max(outputs, 1)\n",
    "            total += labels.size(0)\n",
    "            correct += (predicted == labels).sum().item()\n",
    "    return val_loss / len(val_loader), correct / total\n",
    "\n",
    "# Train the model\n",
    "def test_model(model, test_loader):\n",
    "    model.eval()\n",
    "    correct = 0\n",
    "    total = 0\n",
    "    with torch.no_grad():\n",
    "        for inputs, labels in test_loader:\n",
    "            outputs = model(inputs)\n",
    "            _, predicted = torch.max(outputs, 1)\n",
    "            total += labels.size(0)\n",
    "            correct += (predicted == labels).sum().item()\n",
    "    print(f\"Test Accuracy: {correct / total:.4f}\")"
   ]
  },
  {
   "cell_type": "code",
   "execution_count": 84,
   "metadata": {},
   "outputs": [
    {
     "name": "stdout",
     "output_type": "stream",
     "text": [
      "Epoch 1/10, Loss: 3299.2898, Val Loss: 2.3147, Val Acc: 0.1018\n",
      "Epoch 2/10, Loss: 3294.8445, Val Loss: 2.3148, Val Acc: 0.0981\n",
      "Epoch 3/10, Loss: 3295.0545, Val Loss: 2.3146, Val Acc: 0.0999\n",
      "Epoch 4/10, Loss: 3294.6706, Val Loss: 2.3143, Val Acc: 0.1044\n",
      "Epoch 5/10, Loss: 3294.6299, Val Loss: 2.3150, Val Acc: 0.0966\n",
      "Epoch 6/10, Loss: 3294.3577, Val Loss: 2.3141, Val Acc: 0.0981\n",
      "Epoch 7/10, Loss: 3294.0246, Val Loss: 2.3145, Val Acc: 0.0952\n",
      "Epoch 8/10, Loss: 3294.1403, Val Loss: 2.3146, Val Acc: 0.0966\n",
      "Epoch 9/10, Loss: 3293.9640, Val Loss: 2.3151, Val Acc: 0.0966\n",
      "Epoch 10/10, Loss: 3293.9934, Val Loss: 2.3143, Val Acc: 0.1009\n",
      "Test Accuracy: 0.1000\n"
     ]
    }
   ],
   "source": [
    "train_loader = DataLoader(train_dataset, batch_size=32, shuffle=True)\n",
    "val_loader = DataLoader(val_dataset, batch_size=32)\n",
    "test_loader = DataLoader(test_dataset, batch_size=32)\n",
    "\n",
    "train_model(model, train_loader, val_loader, num_epochs=10)\n",
    "test_model(model, test_loader)"
   ]
  },
  {
   "cell_type": "code",
   "execution_count": 88,
   "metadata": {},
   "outputs": [
    {
     "data": {
      "image/png": "[encoded data removed]",
      "text/plain": [
       "<Figure size 1000x700 with 2 Axes>"
      ]
     },
     "metadata": {},
     "output_type": "display_data"
    }
   ],
   "source": [
    "# draw confusion matrix\n",
    "from sklearn.metrics import confusion_matrix\n",
    "import seaborn as sns\n",
    "import matplotlib.pyplot as plt\n",
    "\n",
    "def plot_confusion_matrix(y_true, y_pred, labels):\n",
    "    cm = confusion_matrix(y_true, y_pred)\n",
    "    cm = cm / cm.sum(axis=1)[:, np.newaxis]  # Normalize\n",
    "    df_cm = pd.DataFrame(cm, index=labels, columns=labels)\n",
    "    plt.figure(figsize=(10, 7))\n",
    "    sns.heatmap(df_cm, annot=True, cmap=\"Blues\", fmt=\".2f\")\n",
    "    plt.title(\"Confusion Matrix\")\n",
    "    plt.xlabel(\"Predicted Label\")\n",
    "    plt.ylabel(\"True Label\")\n",
    "    plt.show()\n",
    "\n",
    "# Get predictions\n",
    "y_true = []\n",
    "y_pred = []\n",
    "with torch.no_grad():\n",
    "    for inputs, labels in test_loader:\n",
    "        outputs = model(inputs)\n",
    "        _, predicted = torch.max(outputs, 1)\n",
    "        y_true.extend(labels.tolist())\n",
    "        y_pred.extend(predicted.tolist())\n",
    "\n",
    "# Plot confusion matrix\n",
    "plot_confusion_matrix(y_true, y_pred, range(11))"
   ]
  },
  {
   "cell_type": "code",
   "execution_count": null,
   "metadata": {},
   "outputs": [],
   "source": []
  }
 ],
 "metadata": {
  "kernelspec": {
   "display_name": ".venv",
   "language": "python",
   "name": "python3"
  },
  "language_info": {
   "codemirror_mode": {
    "name": "ipython",
    "version": 3
   },
   "file_extension": ".py",
   "mimetype": "text/x-python",
   "name": "python",
   "nbconvert_exporter": "python",
   "pygments_lexer": "ipython3",
   "version": "3.11.5"
  }
 },
 "nbformat": 4,
 "nbformat_minor": 2
}
