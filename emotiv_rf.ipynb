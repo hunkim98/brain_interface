{
 "cells": [
  {
   "cell_type": "code",
   "execution_count": 1,
   "metadata": {},
   "outputs": [],
   "source": [
    "import mne\n",
    "import os\n",
    "import numpy as np"
   ]
  },
  {
   "cell_type": "code",
   "execution_count": 3,
   "metadata": {},
   "outputs": [],
   "source": [
    "import pandas as pd\n",
    "\n",
    "data_path = \"data/emotiv/EP1.01.txt\"\n",
    "\n",
    "df_emotiv = pd.read_csv(data_path, sep='\\t', header=None)\n",
    "\n"
   ]
  },
  {
   "cell_type": "code",
   "execution_count": 4,
   "metadata": {},
   "outputs": [
    {
     "data": {
      "text/html": [
       "<div>\n",
       "<style scoped>\n",
       "    .dataframe tbody tr th:only-of-type {\n",
       "        vertical-align: middle;\n",
       "    }\n",
       "\n",
       "    .dataframe tbody tr th {\n",
       "        vertical-align: top;\n",
       "    }\n",
       "\n",
       "    .dataframe thead th {\n",
       "        text-align: right;\n",
       "    }\n",
       "</style>\n",
       "<table border=\"1\" class=\"dataframe\">\n",
       "  <thead>\n",
       "    <tr style=\"text-align: right;\">\n",
       "      <th></th>\n",
       "      <th>id</th>\n",
       "      <th>event</th>\n",
       "      <th>device</th>\n",
       "      <th>channel</th>\n",
       "      <th>code</th>\n",
       "      <th>size</th>\n",
       "      <th>data</th>\n",
       "    </tr>\n",
       "  </thead>\n",
       "  <tbody>\n",
       "    <tr>\n",
       "      <th>0</th>\n",
       "      <td>67635</td>\n",
       "      <td>67635</td>\n",
       "      <td>EP</td>\n",
       "      <td>AF3</td>\n",
       "      <td>6</td>\n",
       "      <td>260</td>\n",
       "      <td>[4395.384615, 4382.564102, 4377.435897, 4387.1...</td>\n",
       "    </tr>\n",
       "    <tr>\n",
       "      <th>1</th>\n",
       "      <td>67636</td>\n",
       "      <td>67635</td>\n",
       "      <td>EP</td>\n",
       "      <td>F7</td>\n",
       "      <td>6</td>\n",
       "      <td>260</td>\n",
       "      <td>[4489.230769, 4475.384615, 4474.358974, 4486.6...</td>\n",
       "    </tr>\n",
       "    <tr>\n",
       "      <th>2</th>\n",
       "      <td>67637</td>\n",
       "      <td>67635</td>\n",
       "      <td>EP</td>\n",
       "      <td>F3</td>\n",
       "      <td>6</td>\n",
       "      <td>260</td>\n",
       "      <td>[4538.461538, 4528.717948, 4524.615384, 4526.1...</td>\n",
       "    </tr>\n",
       "    <tr>\n",
       "      <th>3</th>\n",
       "      <td>67638</td>\n",
       "      <td>67635</td>\n",
       "      <td>EP</td>\n",
       "      <td>FC5</td>\n",
       "      <td>6</td>\n",
       "      <td>260</td>\n",
       "      <td>[4207.692307, 4205.641025, 4200.51282, 4194.35...</td>\n",
       "    </tr>\n",
       "    <tr>\n",
       "      <th>4</th>\n",
       "      <td>67639</td>\n",
       "      <td>67635</td>\n",
       "      <td>EP</td>\n",
       "      <td>T7</td>\n",
       "      <td>6</td>\n",
       "      <td>260</td>\n",
       "      <td>[4497.948717, 4498.461538, 4494.871794, 4497.9...</td>\n",
       "    </tr>\n",
       "  </tbody>\n",
       "</table>\n",
       "</div>"
      ],
      "text/plain": [
       "      id  event device channel  code  size  \\\n",
       "0  67635  67635     EP     AF3     6   260   \n",
       "1  67636  67635     EP      F7     6   260   \n",
       "2  67637  67635     EP      F3     6   260   \n",
       "3  67638  67635     EP     FC5     6   260   \n",
       "4  67639  67635     EP      T7     6   260   \n",
       "\n",
       "                                                data  \n",
       "0  [4395.384615, 4382.564102, 4377.435897, 4387.1...  \n",
       "1  [4489.230769, 4475.384615, 4474.358974, 4486.6...  \n",
       "2  [4538.461538, 4528.717948, 4524.615384, 4526.1...  \n",
       "3  [4207.692307, 4205.641025, 4200.51282, 4194.35...  \n",
       "4  [4497.948717, 4498.461538, 4494.871794, 4497.9...  "
      ]
     },
     "execution_count": 4,
     "metadata": {},
     "output_type": "execute_result"
    }
   ],
   "source": [
    "df_emotiv.columns = ['id', 'event', 'device', 'channel', 'code', 'size', 'data']\n",
    "df_emotiv['data'] = df_emotiv['data'].apply(lambda x: list(map(float, x.split(','))))\n",
    "df_emotiv.head()"
   ]
  },
  {
   "cell_type": "code",
   "execution_count": 5,
   "metadata": {},
   "outputs": [],
   "source": [
    "import numpy as np\n",
    "import pandas as pd\n",
    "from scipy.signal import butter, filtfilt, lfilter\n",
    "\n",
    "def butter_bandpass(lowcut, highcut, fs, order=4):\n",
    "    nyquist = 0.5 * fs\n",
    "    low = lowcut / nyquist\n",
    "    high = highcut / nyquist\n",
    "    b, a = butter(order, [low, high], btype='band')\n",
    "    return b, a\n",
    "\n",
    "def bandpass_filter(data, lowcut, highcut, fs, order=4):\n",
    "    b, a = butter_bandpass(lowcut, highcut, fs, order=order)\n",
    "    y = lfilter(b, a, data)\n",
    "    # y = filtfilt(b, a, data)\n",
    "    return y"
   ]
  },
  {
   "cell_type": "code",
   "execution_count": 6,
   "metadata": {},
   "outputs": [],
   "source": [
    "# bandpass filter for each row's data column (which is a list of floats)\n",
    "lowcut = 0.5\n",
    "highcut = 30\n",
    "fs = 128\n",
    "\n",
    "df_emotiv_copy = df_emotiv.copy()\n",
    "\n",
    "df_emotiv_copy['data'] = df_emotiv['data'].apply(lambda x: bandpass_filter(x, lowcut, highcut, fs))\n"
   ]
  },
  {
   "cell_type": "code",
   "execution_count": 7,
   "metadata": {},
   "outputs": [],
   "source": [
    "df_emotiv_copy[\"size\"].unique()\n",
    "# get smallest size\n",
    "min_size = df_emotiv_copy[\"size\"].min()\n",
    "# shorten all data columns to min_size\n",
    "df_emotiv_copy['data'] = df_emotiv_copy['data'].apply(lambda x: x[:min_size])"
   ]
  },
  {
   "cell_type": "code",
   "execution_count": 8,
   "metadata": {},
   "outputs": [
    {
     "data": {
      "text/plain": [
       "array([136])"
      ]
     },
     "execution_count": 8,
     "metadata": {},
     "output_type": "execute_result"
    }
   ],
   "source": [
    "# print all length of data columns\n",
    "df_emotiv_copy['data'].apply(len).unique()\n"
   ]
  },
  {
   "cell_type": "code",
   "execution_count": 9,
   "metadata": {},
   "outputs": [],
   "source": [
    "import numpy as np\n",
    "import matplotlib.pyplot as plt\n",
    "from scipy.signal import stft\n",
    "\n",
    "def compute_stft_for_segment(segment, fs, n_fft=256, hop_length=128):\n",
    "    \"\"\"\n",
    "    Compute STFT for a multi-channel EEG segment.\n",
    "    Args:\n",
    "        segment: 2D array of shape (256, 14), where rows are time points and columns are channels.\n",
    "        fs: Sampling frequency in Hz.\n",
    "        n_fft: Number of FFT points.\n",
    "        hop_length: Number of overlapping samples between windows.\n",
    "    Returns:\n",
    "        stft_results: 3D array of shape (n_channels, n_freq_bins, n_time_frames)\n",
    "                      containing the magnitude spectrograms for each channel.\n",
    "    \"\"\"\n",
    "    stft_results = []\n",
    "\n",
    "    # Compute STFT for each channel\n",
    "    _, _, Zxx = stft(segment, fs, nperseg=n_fft, noverlap=hop_length)\n",
    "    stft_results.append(np.abs(Zxx))  # Use magnitude spectrogram\n",
    "    \n",
    "    return np.array(stft_results)  # Shape: (n_channels, n_freq_bins, n_time_frames)\n"
   ]
  },
  {
   "cell_type": "code",
   "execution_count": 10,
   "metadata": {},
   "outputs": [
    {
     "data": {
      "text/plain": [
       "0         [319.95956051800994, 1666.1927774765552, 3682....\n",
       "1         [326.79103872077593, 1701.7130372662098, 3761....\n",
       "2         [330.3747649684057, 1720.6844263083037, 3803.7...\n",
       "3         [306.296604112478, 1595.786876110437, 3529.054...\n",
       "4         [327.4256568611725, 1706.064922511325, 3773.66...\n",
       "                                ...                        \n",
       "910471    [329.62815534864836, 1717.354228389748, 3798.2...\n",
       "910472    [307.97647579332926, 1604.502394987476, 3549.2...\n",
       "910473    [333.1372206343024, 1735.7872799909135, 3839.9...\n",
       "910474    [287.4820413306202, 1497.754963935756, 3312.54...\n",
       "910475    [285.72750868779315, 1488.575768579764, 3292.8...\n",
       "Name: data, Length: 910476, dtype: object"
      ]
     },
     "execution_count": 10,
     "metadata": {},
     "output_type": "execute_result"
    }
   ],
   "source": [
    "df_emotiv_copy[\"data\"]"
   ]
  },
  {
   "cell_type": "code",
   "execution_count": 11,
   "metadata": {},
   "outputs": [],
   "source": [
    "# change data column to stft results\n",
    "n_fft  = min_size // 2\n",
    "hop_length = n_fft // 2\n",
    "\n",
    "df_emotiv_copy['stft'] = df_emotiv_copy['data'].apply(lambda x: compute_stft_for_segment(np.array(x), fs, n_fft, hop_length))\n"
   ]
  },
  {
   "cell_type": "code",
   "execution_count": 12,
   "metadata": {},
   "outputs": [],
   "source": [
    "# normalize stft results by max - min\n",
    "df_emotiv_copy['stft'] = df_emotiv_copy['stft'].apply(lambda x: (x - np.min(x)) / (np.max(x) - np.min(x)))"
   ]
  },
  {
   "cell_type": "code",
   "execution_count": 13,
   "metadata": {},
   "outputs": [
    {
     "data": {
      "text/plain": [
       "(1, 35, 5)"
      ]
     },
     "execution_count": 13,
     "metadata": {},
     "output_type": "execute_result"
    }
   ],
   "source": [
    "df_emotiv_copy['stft'][0].shape"
   ]
  },
  {
   "cell_type": "code",
   "execution_count": 14,
   "metadata": {},
   "outputs": [
    {
     "data": {
      "text/plain": [
       "(175,)"
      ]
     },
     "execution_count": 14,
     "metadata": {},
     "output_type": "execute_result"
    }
   ],
   "source": [
    "# flatten stft results\n",
    "df_emotiv_copy['stft_flattened'] = df_emotiv_copy['stft'].apply(lambda x: x.flatten())\n",
    "df_emotiv_copy['stft_flattened'][0].shape"
   ]
  },
  {
   "cell_type": "code",
   "execution_count": 15,
   "metadata": {},
   "outputs": [
    {
     "name": "stdout",
     "output_type": "stream",
     "text": [
      "(910476, 175) (910476,)\n"
     ]
    }
   ],
   "source": [
    "X = np.array(df_emotiv_copy['stft_flattened'].tolist())\n",
    "y = df_emotiv_copy['event'].values\n",
    "print(X.shape, y.shape)"
   ]
  },
  {
   "cell_type": "code",
   "execution_count": 16,
   "metadata": {},
   "outputs": [
    {
     "name": "stdout",
     "output_type": "stream",
     "text": [
      "X shape: (910476, 175)\n",
      "y shape: (910476,)\n",
      "Training set shape: (637333, 175)\n",
      "Validation set shape: (136571, 175)\n",
      "Test set shape: (136572, 175)\n"
     ]
    }
   ],
   "source": [
    "from sklearn.model_selection import train_test_split\n",
    "\n",
    "print(\"X shape:\", X.shape)\n",
    "print(\"y shape:\", y.shape)\n",
    "\n",
    "# Split data into train, validation, and test sets\n",
    "X_train, X_temp, y_train, y_temp = train_test_split(X, y, test_size=0.3, random_state=42)\n",
    "X_val, X_test, y_val, y_test = train_test_split(X_temp, y_temp, test_size=0.5, random_state=42)\n",
    "\n",
    "print(\"Training set shape:\", X_train.shape)\n",
    "print(\"Validation set shape:\", X_val.shape)\n",
    "print(\"Test set shape:\", X_test.shape)"
   ]
  },
  {
   "cell_type": "code",
   "execution_count": null,
   "metadata": {},
   "outputs": [],
   "source": [
    "# create a random forest model\n",
    "from sklearn.ensemble import RandomForestClassifier\n",
    "\n",
    "# Create a random forest classifier\n",
    "rf = RandomForestClassifier(n_estimators=100, random_state=42)\n",
    "\n",
    "# Train the classifier\n",
    "rf.fit(X_train.reshape(X_train.shape[0], -1), y_train)\n",
    "\n",
    "# Evaluate the classifier\n",
    "train_score = rf.score(X_train.reshape(X_train.shape[0], -1), y_train)\n",
    "val_score = rf.score(X_val.reshape(X_val.shape[0], -1), y_val)\n",
    "test_score = rf.score(X_test.reshape(X_test.shape[0], -1), y_test)\n",
    "\n",
    "print(f\"Train accuracy: {train_score:.4f}\")\n",
    "print(f\"Validation accuracy: {val_score:.4f}\")\n",
    "print(f\"Test accuracy: {test_score:.4f}\")\n",
    "\n",
    "# plot confusion matrix\n",
    "from sklearn.metrics import confusion_matrix\n",
    "import seaborn as sns\n",
    "import matplotlib\n",
    "import matplotlib.pyplot as plt\n",
    "\n",
    "# Predict labels for the test set\n",
    "y_pred = rf.predict(X_test.reshape(X_test.shape[0], -1))\n",
    "\n",
    "# Compute the confusion matrix\n",
    "conf_matrix = confusion_matrix(y_test, y_pred)\n",
    "\n",
    "labels = np.unique(y)\n",
    "\n",
    "# Plot the confusion matrix\n",
    "plt.figure(figsize=(10, 8))\n",
    "sns.heatmap(conf_matrix, annot=True, fmt=\"d\", cmap=\"Blues\", xticklabels=labels, yticklabels=labels)\n",
    "plt.title(\"Confusion Matrix\")\n",
    "plt.xlabel(\"Predicted Labels\")\n",
    "plt.ylabel(\"True Labels\")\n",
    "plt.show()\n",
    "\n"
   ]
  },
  {
   "cell_type": "code",
   "execution_count": null,
   "metadata": {},
   "outputs": [],
   "source": [
    "# save the rf stft model\n",
    "import joblib\n",
    "\n",
    "# Save the model\n",
    "joblib.dump(rf, \"rf_stft_model.joblib\")"
   ]
  },
  {
   "cell_type": "code",
   "execution_count": null,
   "metadata": {},
   "outputs": [
    {
     "name": "stdout",
     "output_type": "stream",
     "text": [
      "9\n",
      "0\n",
      "7\n",
      "6\n",
      "1\n",
      "8\n",
      "4\n",
      "3\n",
      "2\n",
      "5\n"
     ]
    }
   ],
   "source": [
    "train = {}\n",
    "\n",
    "lowcut = 0.5\n",
    "highcut = 30\n",
    "fs = 128\n",
    "\n",
    "for key in dfs.keys():\n",
    "    train[key] = []\n",
    "    print(key)\n",
    "    min = np.inf\n",
    "    max = -np.inf\n",
    "    for df in dfs[key]:\n",
    "        # split the data by 256 samples\n",
    "        for i in range(0, len(df), 256):\n",
    "            if i + 256 < len(df):\n",
    "                data = df[i:i+256][eeg_columns].values\n",
    "                # apply bandpass filter\n",
    "                data = bandpass_filter(data, lowcut, highcut, fs)\n",
    "                extracted = compute_stft_for_segment(data, fs)\n",
    "                if extracted.min() < min:\n",
    "                    min = extracted.min()\n",
    "                if extracted.max() > max:\n",
    "                    max = extracted.max()\n",
    "                train[key].append(extracted)\n",
    "    # normalize the data for consistency\n",
    "    train[key] = (train[key] - min) / (max - min)\n",
    "    # change to cnn input\n",
    "    train[key] = np.array(train[key])\n",
    "    num_samples, num_channels, height, width = train[key].shape\n",
    "    # train[key] = train[key].reshape(num_samples, num_channels, height, width)\n",
    "    # merge the 14 channels in to one picture\n",
    "\n",
    "# save min and max values\n",
    "np.save(\"min_stft.npy\", min)\n",
    "np.save(\"max_stft.npy\", max)"
   ]
  },
  {
   "cell_type": "code",
   "execution_count": null,
   "metadata": {},
   "outputs": [
    {
     "data": {
      "text/plain": [
       "(23, 14, 129, 3)"
      ]
     },
     "execution_count": 7,
     "metadata": {},
     "output_type": "execute_result"
    }
   ],
   "source": [
    "train[\"0\"].shape # we treat them as image"
   ]
  },
  {
   "cell_type": "code",
   "execution_count": 8,
   "metadata": {},
   "outputs": [
    {
     "name": "stdout",
     "output_type": "stream",
     "text": [
      "[9 9 9 9 9 9 9 9 9 9 9 9 9 9 9 9 9 9 9 9 0 0 0 0 0 0 0 0 0 0 0 0 0 0 0 0 0\n",
      " 0 0 0 0 0 0 7 7 7 7 7 7 7 7 7 7 7 7 7 7 7 7 7 7 7 6 6 6 6 6 6 6 6 6 6 6 6\n",
      " 6 6 6 6 6 6 1 1 1 1 1 1 1 1 1 1 1 1 1 1 1 1 1 1 8 8 8 8 8 8 8 8 8 8 8 8 8\n",
      " 8 8 8 8 8 8 8 8 8 4 4 4 4 4 4 4 4 4 4 4 4 4 4 4 4 4 4 4 4 4 3 3 3 3 3 3 3\n",
      " 3 3 3 3 3 3 3 3 3 3 3 3 2 2 2 2 2 2 2 2 2 2 2 2 2 2 2 2 2 2 2 5 5 5 5 5 5\n",
      " 5 5 5 5 5 5 5 5 5 5 5 5 5 5]\n",
      "10\n"
     ]
    }
   ],
   "source": [
    "import pandas as pd\n",
    "\n",
    "# Combine data from the dictionary\n",
    "X = []\n",
    "y = []\n",
    "labels = []\n",
    "\n",
    "for label, data in train.items():\n",
    "    X.append(data)  # Add all the spectrograms\n",
    "    y.extend([label] * data.shape[0])  # Extend labels for each sample\n",
    "    # create a mapping of the labels\n",
    "    labels.append(label)\n",
    "    \n",
    "# use categorical encoding\n",
    "from sklearn.preprocessing import LabelEncoder\n",
    "\n",
    "le = LabelEncoder()\n",
    "y = le.fit_transform(y)\n",
    "\n",
    "# Convert to numpy arrays\n",
    "X = np.concatenate(X, axis=0)\n",
    "y = np.array(y)\n",
    "# change y to categorical\n",
    "y = le.transform(y)\n",
    "\n",
    "print(y)\n",
    "# labels count\n",
    "print(len(le.classes_))\n",
    "\n",
    "outputs = len(le.classes_)"
   ]
  },
  {
   "cell_type": "code",
   "execution_count": 9,
   "metadata": {},
   "outputs": [
    {
     "data": {
      "text/plain": [
       "array([9, 9, 9, 9, 9, 9, 9, 9, 9, 9, 9, 9, 9, 9, 9, 9, 9, 9, 9, 9, 0, 0,\n",
       "       0, 0, 0, 0, 0, 0, 0, 0, 0, 0, 0, 0, 0, 0, 0, 0, 0, 0, 0, 0, 0, 7,\n",
       "       7, 7, 7, 7, 7, 7, 7, 7, 7, 7, 7, 7, 7, 7, 7, 7, 7, 7, 6, 6, 6, 6,\n",
       "       6, 6, 6, 6, 6, 6, 6, 6, 6, 6, 6, 6, 6, 6, 1, 1, 1, 1, 1, 1, 1, 1,\n",
       "       1, 1, 1, 1, 1, 1, 1, 1, 1, 1, 8, 8, 8, 8, 8, 8, 8, 8, 8, 8, 8, 8,\n",
       "       8, 8, 8, 8, 8, 8, 8, 8, 8, 8, 4, 4, 4, 4, 4, 4, 4, 4, 4, 4, 4, 4,\n",
       "       4, 4, 4, 4, 4, 4, 4, 4, 4, 3, 3, 3, 3, 3, 3, 3, 3, 3, 3, 3, 3, 3,\n",
       "       3, 3, 3, 3, 3, 3, 2, 2, 2, 2, 2, 2, 2, 2, 2, 2, 2, 2, 2, 2, 2, 2,\n",
       "       2, 2, 2, 5, 5, 5, 5, 5, 5, 5, 5, 5, 5, 5, 5, 5, 5, 5, 5, 5, 5, 5,\n",
       "       5])"
      ]
     },
     "execution_count": 9,
     "metadata": {},
     "output_type": "execute_result"
    }
   ],
   "source": [
    "y"
   ]
  },
  {
   "cell_type": "code",
   "execution_count": 10,
   "metadata": {},
   "outputs": [
    {
     "data": {
      "text/plain": [
       "(199, 14, 129, 3)"
      ]
     },
     "execution_count": 10,
     "metadata": {},
     "output_type": "execute_result"
    }
   ],
   "source": [
    "X.shape"
   ]
  },
  {
   "cell_type": "code",
   "execution_count": 12,
   "metadata": {},
   "outputs": [
    {
     "name": "stdout",
     "output_type": "stream",
     "text": [
      "X shape: (199, 14, 129, 3)\n",
      "y shape: (199,)\n",
      "Training set shape: (139, 14, 129, 3)\n",
      "Validation set shape: (30, 14, 129, 3)\n",
      "Test set shape: (30, 14, 129, 3)\n"
     ]
    }
   ],
   "source": [
    "from sklearn.model_selection import train_test_split\n",
    "\n",
    "print(\"X shape:\", X.shape)\n",
    "print(\"y shape:\", y.shape)\n",
    "\n",
    "# Split data into train, validation, and test sets\n",
    "X_train, X_temp, y_train, y_temp = train_test_split(X, y, test_size=0.3, random_state=42)\n",
    "X_val, X_test, y_val, y_test = train_test_split(X_temp, y_temp, test_size=0.5, random_state=42)\n",
    "\n",
    "print(\"Training set shape:\", X_train.shape)\n",
    "print(\"Validation set shape:\", X_val.shape)\n",
    "print(\"Test set shape:\", X_test.shape)"
   ]
  },
  {
   "cell_type": "code",
   "execution_count": 14,
   "metadata": {},
   "outputs": [
    {
     "name": "stdout",
     "output_type": "stream",
     "text": [
      "Train accuracy: 1.0000\n",
      "Validation accuracy: 0.5000\n",
      "Test accuracy: 0.6667\n"
     ]
    },
    {
     "data": {
      "image/png": "[encoded data removed]",
      "text/plain": [
       "<Figure size 1000x800 with 2 Axes>"
      ]
     },
     "metadata": {},
     "output_type": "display_data"
    }
   ],
   "source": [
    "# create a random forest model\n",
    "from sklearn.ensemble import RandomForestClassifier\n",
    "\n",
    "# Create a random forest classifier\n",
    "rf = RandomForestClassifier(n_estimators=100, random_state=42)\n",
    "\n",
    "# Train the classifier\n",
    "rf.fit(X_train.reshape(X_train.shape[0], -1), y_train)\n",
    "\n",
    "# Evaluate the classifier\n",
    "train_score = rf.score(X_train.reshape(X_train.shape[0], -1), y_train)\n",
    "val_score = rf.score(X_val.reshape(X_val.shape[0], -1), y_val)\n",
    "test_score = rf.score(X_test.reshape(X_test.shape[0], -1), y_test)\n",
    "\n",
    "print(f\"Train accuracy: {train_score:.4f}\")\n",
    "print(f\"Validation accuracy: {val_score:.4f}\")\n",
    "print(f\"Test accuracy: {test_score:.4f}\")\n",
    "\n",
    "# plot confusion matrix\n",
    "from sklearn.metrics import confusion_matrix\n",
    "import seaborn as sns\n",
    "import matplotlib\n",
    "import matplotlib.pyplot as plt\n",
    "\n",
    "# Predict labels for the test set\n",
    "y_pred = rf.predict(X_test.reshape(X_test.shape[0], -1))\n",
    "\n",
    "# Compute the confusion matrix\n",
    "conf_matrix = confusion_matrix(y_test, y_pred)\n",
    "\n",
    "# Plot the confusion matrix\n",
    "plt.figure(figsize=(10, 8))\n",
    "sns.heatmap(conf_matrix, annot=True, fmt=\"d\", cmap=\"Blues\", xticklabels=labels, yticklabels=labels)\n",
    "plt.title(\"Confusion Matrix\")\n",
    "plt.xlabel(\"Predicted Labels\")\n",
    "plt.ylabel(\"True Labels\")\n",
    "plt.show()\n",
    "\n"
   ]
  },
  {
   "cell_type": "code",
   "execution_count": 77,
   "metadata": {},
   "outputs": [],
   "source": [
    "import torch\n",
    "from torch.utils.data import Dataset, DataLoader\n",
    "\n",
    "class EEGDataset(Dataset):\n",
    "    def __init__(self, data, labels):\n",
    "        \"\"\"\n",
    "        Args:\n",
    "            data: A NumPy array of shape (num_samples, channels, height, width).\n",
    "            labels: A NumPy array of shape (num_samples,) with classification labels.\n",
    "        \"\"\"\n",
    "        self.data = torch.tensor(data, dtype=torch.float32)  # Convert data to tensor\n",
    "        self.labels = torch.tensor(labels, dtype=torch.long)  # Convert labels to tensor\n",
    "\n",
    "    def __len__(self):\n",
    "        return len(self.data)\n",
    "\n",
    "    def __getitem__(self, idx):\n",
    "        x = self.data[idx]  # Shape: (channels, height, width)\n",
    "        y = self.labels[idx]  # Shape: ()\n",
    "        return x, y\n",
    "\n",
    "# Create PyTorch Datasets\n",
    "train_dataset = EEGDataset(X_train, y_train)\n",
    "val_dataset = EEGDataset(X_val, y_val)\n",
    "test_dataset = EEGDataset(X_test, y_test)\n"
   ]
  },
  {
   "cell_type": "code",
   "execution_count": 78,
   "metadata": {},
   "outputs": [
    {
     "name": "stdout",
     "output_type": "stream",
     "text": [
      "EEGCNN(\n",
      "  (conv1): Conv2d(14, 16, kernel_size=(3, 3), stride=(1, 1), padding=(1, 1))\n",
      "  (pool1): MaxPool2d(kernel_size=(2, 1), stride=(2, 1), padding=0, dilation=1, ceil_mode=False)\n",
      "  (conv2): Conv2d(16, 32, kernel_size=(3, 3), stride=(1, 1), padding=(1, 1))\n",
      "  (pool2): MaxPool2d(kernel_size=(2, 1), stride=(2, 1), padding=0, dilation=1, ceil_mode=False)\n",
      "  (conv3): Conv2d(32, 64, kernel_size=(3, 3), stride=(1, 1), padding=(1, 1))\n",
      "  (pool3): MaxPool2d(kernel_size=(2, 1), stride=(2, 1), padding=0, dilation=1, ceil_mode=False)\n",
      "  (fc1): Linear(in_features=3072, out_features=128, bias=True)\n",
      "  (fc2): Linear(in_features=128, out_features=10, bias=True)\n",
      ")\n"
     ]
    }
   ],
   "source": [
    "import torch.nn as nn\n",
    "import torch.nn.functional as F\n",
    "\n",
    "class EEGCNN(nn.Module):\n",
    "    def __init__(self, input_channels, num_classes):\n",
    "        super(EEGCNN, self).__init__()\n",
    "        self.conv1 = nn.Conv2d(input_channels, 16, kernel_size=3, stride=1, padding=(1, 1))  # Conv1\n",
    "        self.pool1 = nn.MaxPool2d(kernel_size=(2, 1))  # Pool only height\n",
    "\n",
    "        self.conv2 = nn.Conv2d(16, 32, kernel_size=3, stride=1, padding=(1, 1))  # Conv2\n",
    "        self.pool2 = nn.MaxPool2d(kernel_size=(2, 1))  # Pool only height\n",
    "\n",
    "        self.conv3 = nn.Conv2d(32, 64, kernel_size=3, stride=1, padding=(1, 1))  # Conv3\n",
    "        self.pool3 = nn.MaxPool2d(kernel_size=(2, 1))  # Pool only height\n",
    "\n",
    "        # Calculate flattened size\n",
    "        self.fc1 = nn.Linear(64 * (129 // 8) * 3, 128)  # Adjust for reduced height and fixed width\n",
    "        self.fc2 = nn.Linear(128, num_classes)\n",
    "\n",
    "    def forward(self, x):\n",
    "        x = F.relu(self.conv1(x))\n",
    "        x = self.pool1(x)\n",
    "        x = F.relu(self.conv2(x))\n",
    "        x = self.pool2(x)\n",
    "        x = F.relu(self.conv3(x))\n",
    "        x = self.pool3(x)\n",
    "        x = x.view(x.size(0), -1)  # Flatten\n",
    "        x = F.relu(self.fc1(x))\n",
    "        x = self.fc2(x)\n",
    "        return x\n",
    "\n",
    "# Define model\n",
    "input_channels = X_train.shape[1]  # Number of channels in the input data\n",
    "num_classes = len(le.classes_)  # Number of classes\n",
    "model = EEGCNN(input_channels, num_classes)\n",
    "print(model)"
   ]
  },
  {
   "cell_type": "code",
   "execution_count": 79,
   "metadata": {},
   "outputs": [],
   "source": [
    "import torch.optim as optim\n",
    "\n",
    "# Define loss and optimizer\n",
    "criterion = nn.CrossEntropyLoss()\n",
    "optimizer = optim.Adam(model.parameters(), lr=0.001)\n",
    "\n",
    "# Training function\n",
    "def train_model(model, train_loader, val_loader, num_epochs):\n",
    "    model.train()\n",
    "    for epoch in range(num_epochs):\n",
    "        running_loss = 0.0\n",
    "        for inputs, labels in train_loader:\n",
    "            optimizer.zero_grad()\n",
    "            outputs = model(inputs)\n",
    "            loss = criterion(outputs, labels)\n",
    "            loss.backward()\n",
    "            optimizer.step()\n",
    "            running_loss += loss.item()\n",
    "        \n",
    "        val_loss, val_acc = validate_model(model, val_loader)\n",
    "        print(f\"Epoch {epoch + 1}/{num_epochs}, Loss: {running_loss:.4f}, Val Loss: {val_loss:.4f}, Val Acc: {val_acc:.4f}\")\n",
    "\n",
    "# Validation function\n",
    "def validate_model(model, val_loader):\n",
    "    model.eval()\n",
    "    val_loss = 0.0\n",
    "    correct = 0\n",
    "    total = 0\n",
    "    with torch.no_grad():\n",
    "        for inputs, labels in val_loader:\n",
    "            outputs = model(inputs)\n",
    "            loss = criterion(outputs, labels)\n",
    "            val_loss += loss.item()\n",
    "            _, predicted = torch.max(outputs, 1)\n",
    "            total += labels.size(0)\n",
    "            correct += (predicted == labels).sum().item()\n",
    "    return val_loss / len(val_loader), correct / total\n",
    "\n",
    "# Train the model\n",
    "def test_model(model, test_loader):\n",
    "    model.eval()\n",
    "    correct = 0\n",
    "    total = 0\n",
    "    with torch.no_grad():\n",
    "        for inputs, labels in test_loader:\n",
    "            outputs = model(inputs)\n",
    "            _, predicted = torch.max(outputs, 1)\n",
    "            total += labels.size(0)\n",
    "            correct += (predicted == labels).sum().item()\n",
    "    print(f\"Test Accuracy: {correct / total:.4f}\")"
   ]
  },
  {
   "cell_type": "code",
   "execution_count": 80,
   "metadata": {},
   "outputs": [
    {
     "name": "stdout",
     "output_type": "stream",
     "text": [
      "Epoch 1/10, Loss: 11.4874, Val Loss: 2.3276, Val Acc: 0.1000\n",
      "Epoch 2/10, Loss: 11.4958, Val Loss: 2.3644, Val Acc: 0.0667\n",
      "Epoch 3/10, Loss: 11.4278, Val Loss: 2.3736, Val Acc: 0.0667\n",
      "Epoch 4/10, Loss: 11.4276, Val Loss: 2.3821, Val Acc: 0.0667\n",
      "Epoch 5/10, Loss: 11.4344, Val Loss: 2.3720, Val Acc: 0.0667\n",
      "Epoch 6/10, Loss: 11.3780, Val Loss: 2.3673, Val Acc: 0.0667\n",
      "Epoch 7/10, Loss: 11.4234, Val Loss: 2.3676, Val Acc: 0.0667\n",
      "Epoch 8/10, Loss: 11.3601, Val Loss: 2.3749, Val Acc: 0.0667\n",
      "Epoch 9/10, Loss: 11.4704, Val Loss: 2.3949, Val Acc: 0.0667\n",
      "Epoch 10/10, Loss: 11.4208, Val Loss: 2.3805, Val Acc: 0.0667\n",
      "Test Accuracy: 0.0667\n"
     ]
    }
   ],
   "source": [
    "train_loader = DataLoader(train_dataset, batch_size=32, shuffle=True)\n",
    "val_loader = DataLoader(val_dataset, batch_size=32)\n",
    "test_loader = DataLoader(test_dataset, batch_size=32)\n",
    "\n",
    "train_model(model, train_loader, val_loader, num_epochs=10)\n",
    "test_model(model, test_loader)"
   ]
  },
  {
   "cell_type": "code",
   "execution_count": 81,
   "metadata": {},
   "outputs": [
    {
     "data": {
      "image/png": "[encoded data removed]",
      "text/plain": [
       "<Figure size 1000x700 with 2 Axes>"
      ]
     },
     "metadata": {},
     "output_type": "display_data"
    }
   ],
   "source": [
    "# draw confusion matrix\n",
    "from sklearn.metrics import confusion_matrix\n",
    "import seaborn as sns\n",
    "import matplotlib.pyplot as plt\n",
    "\n",
    "def plot_confusion_matrix(y_true, y_pred, labels):\n",
    "    cm = confusion_matrix(y_true, y_pred)\n",
    "    cm = cm / cm.sum(axis=1)[:, np.newaxis]  # Normalize\n",
    "    df_cm = pd.DataFrame(cm, index=labels, columns=labels)\n",
    "    plt.figure(figsize=(10, 7))\n",
    "    sns.heatmap(df_cm, annot=True, cmap=\"Blues\", fmt=\".2f\")\n",
    "    plt.title(\"Confusion Matrix\")\n",
    "    plt.xlabel(\"Predicted Label\")\n",
    "    plt.ylabel(\"True Label\")\n",
    "    plt.show()\n",
    "\n",
    "# Get predictions\n",
    "y_true = []\n",
    "y_pred = []\n",
    "with torch.no_grad():\n",
    "    for inputs, labels in test_loader:\n",
    "        outputs = model(inputs)\n",
    "        _, predicted = torch.max(outputs, 1)\n",
    "        y_true.extend(labels.tolist())\n",
    "        y_pred.extend(predicted.tolist())\n",
    "\n",
    "# Plot confusion matrix\n",
    "plot_confusion_matrix(y_true, y_pred, le.classes_)"
   ]
  },
  {
   "cell_type": "code",
   "execution_count": null,
   "metadata": {},
   "outputs": [],
   "source": []
  }
 ],
 "metadata": {
  "kernelspec": {
   "display_name": ".venv",
   "language": "python",
   "name": "python3"
  },
  "language_info": {
   "codemirror_mode": {
    "name": "ipython",
    "version": 3
   },
   "file_extension": ".py",
   "mimetype": "text/x-python",
   "name": "python",
   "nbconvert_exporter": "python",
   "pygments_lexer": "ipython3",
   "version": "3.11.5"
  }
 },
 "nbformat": 4,
 "nbformat_minor": 2
}
