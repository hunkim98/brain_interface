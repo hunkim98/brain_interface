{
 "cells": [
  {
   "cell_type": "code",
   "execution_count": 1,
   "metadata": {},
   "outputs": [],
   "source": [
    "import mne\n",
    "import os\n",
    "import numpy as np"
   ]
  },
  {
   "cell_type": "code",
   "execution_count": 51,
   "metadata": {},
   "outputs": [],
   "source": [
    "import pandas as pd\n",
    "\n",
    "data_path = \"data/emotiv/EP1.01.txt\"\n",
    "\n",
    "df_emotiv = pd.read_csv(data_path, sep='\\t', header=None)\n",
    "\n"
   ]
  },
  {
   "cell_type": "code",
   "execution_count": 52,
   "metadata": {},
   "outputs": [
    {
     "data": {
      "text/html": [
       "<div>\n",
       "<style scoped>\n",
       "    .dataframe tbody tr th:only-of-type {\n",
       "        vertical-align: middle;\n",
       "    }\n",
       "\n",
       "    .dataframe tbody tr th {\n",
       "        vertical-align: top;\n",
       "    }\n",
       "\n",
       "    .dataframe thead th {\n",
       "        text-align: right;\n",
       "    }\n",
       "</style>\n",
       "<table border=\"1\" class=\"dataframe\">\n",
       "  <thead>\n",
       "    <tr style=\"text-align: right;\">\n",
       "      <th></th>\n",
       "      <th>id</th>\n",
       "      <th>event</th>\n",
       "      <th>device</th>\n",
       "      <th>channel</th>\n",
       "      <th>code</th>\n",
       "      <th>size</th>\n",
       "      <th>data</th>\n",
       "    </tr>\n",
       "  </thead>\n",
       "  <tbody>\n",
       "    <tr>\n",
       "      <th>0</th>\n",
       "      <td>67635</td>\n",
       "      <td>67635</td>\n",
       "      <td>EP</td>\n",
       "      <td>AF3</td>\n",
       "      <td>6</td>\n",
       "      <td>260</td>\n",
       "      <td>[4395.384615, 4382.564102, 4377.435897, 4387.1...</td>\n",
       "    </tr>\n",
       "    <tr>\n",
       "      <th>1</th>\n",
       "      <td>67636</td>\n",
       "      <td>67635</td>\n",
       "      <td>EP</td>\n",
       "      <td>F7</td>\n",
       "      <td>6</td>\n",
       "      <td>260</td>\n",
       "      <td>[4489.230769, 4475.384615, 4474.358974, 4486.6...</td>\n",
       "    </tr>\n",
       "    <tr>\n",
       "      <th>2</th>\n",
       "      <td>67637</td>\n",
       "      <td>67635</td>\n",
       "      <td>EP</td>\n",
       "      <td>F3</td>\n",
       "      <td>6</td>\n",
       "      <td>260</td>\n",
       "      <td>[4538.461538, 4528.717948, 4524.615384, 4526.1...</td>\n",
       "    </tr>\n",
       "    <tr>\n",
       "      <th>3</th>\n",
       "      <td>67638</td>\n",
       "      <td>67635</td>\n",
       "      <td>EP</td>\n",
       "      <td>FC5</td>\n",
       "      <td>6</td>\n",
       "      <td>260</td>\n",
       "      <td>[4207.692307, 4205.641025, 4200.51282, 4194.35...</td>\n",
       "    </tr>\n",
       "    <tr>\n",
       "      <th>4</th>\n",
       "      <td>67639</td>\n",
       "      <td>67635</td>\n",
       "      <td>EP</td>\n",
       "      <td>T7</td>\n",
       "      <td>6</td>\n",
       "      <td>260</td>\n",
       "      <td>[4497.948717, 4498.461538, 4494.871794, 4497.9...</td>\n",
       "    </tr>\n",
       "  </tbody>\n",
       "</table>\n",
       "</div>"
      ],
      "text/plain": [
       "      id  event device channel  code  size  \\\n",
       "0  67635  67635     EP     AF3     6   260   \n",
       "1  67636  67635     EP      F7     6   260   \n",
       "2  67637  67635     EP      F3     6   260   \n",
       "3  67638  67635     EP     FC5     6   260   \n",
       "4  67639  67635     EP      T7     6   260   \n",
       "\n",
       "                                                data  \n",
       "0  [4395.384615, 4382.564102, 4377.435897, 4387.1...  \n",
       "1  [4489.230769, 4475.384615, 4474.358974, 4486.6...  \n",
       "2  [4538.461538, 4528.717948, 4524.615384, 4526.1...  \n",
       "3  [4207.692307, 4205.641025, 4200.51282, 4194.35...  \n",
       "4  [4497.948717, 4498.461538, 4494.871794, 4497.9...  "
      ]
     },
     "execution_count": 52,
     "metadata": {},
     "output_type": "execute_result"
    }
   ],
   "source": [
    "df_emotiv.columns = ['id', 'event', 'device', 'channel', 'code', 'size', 'data']\n",
    "df_emotiv['data'] = df_emotiv['data'].apply(lambda x: list(map(float, x.split(','))))\n",
    "df_emotiv.head()"
   ]
  },
  {
   "cell_type": "code",
   "execution_count": 53,
   "metadata": {},
   "outputs": [],
   "source": [
    "import numpy as np\n",
    "import pandas as pd\n",
    "from scipy.signal import butter, filtfilt, lfilter\n",
    "\n",
    "def butter_bandpass(lowcut, highcut, fs, order=4):\n",
    "    nyquist = 0.5 * fs\n",
    "    low = lowcut / nyquist\n",
    "    high = highcut / nyquist\n",
    "    b, a = butter(order, [low, high], btype='band')\n",
    "    return b, a\n",
    "\n",
    "def bandpass_filter(data, lowcut, highcut, fs, order=4):\n",
    "    b, a = butter_bandpass(lowcut, highcut, fs, order=order)\n",
    "    y = lfilter(b, a, data)\n",
    "    # y = filtfilt(b, a, data)\n",
    "    return y"
   ]
  },
  {
   "cell_type": "code",
   "execution_count": 54,
   "metadata": {},
   "outputs": [],
   "source": [
    "# bandpass filter for each row's data column (which is a list of floats)\n",
    "lowcut = 0.5\n",
    "highcut = 30\n",
    "fs = 128\n",
    "\n",
    "df_emotiv_copy = df_emotiv.copy()\n",
    "\n",
    "\n",
    "df_emotiv_copy['data'] = df_emotiv['data'].apply(lambda x: bandpass_filter(x, lowcut, highcut, fs))\n"
   ]
  },
  {
   "cell_type": "code",
   "execution_count": 55,
   "metadata": {},
   "outputs": [],
   "source": [
    "\n",
    "\n",
    "min_size = 256\n",
    "\n",
    "# drop rows that have size less than min_size\n",
    "df_emotiv_copy = df_emotiv_copy[df_emotiv_copy['size'] >= min_size]\n",
    "\n",
    "# then shorten all data columns to min_size\n",
    "df_emotiv_copy['data'] = df_emotiv_copy['data'].apply(lambda x: x[:min_size])"
   ]
  },
  {
   "cell_type": "code",
   "execution_count": 56,
   "metadata": {},
   "outputs": [
    {
     "data": {
      "text/plain": [
       "(904806, 7)"
      ]
     },
     "execution_count": 56,
     "metadata": {},
     "output_type": "execute_result"
    }
   ],
   "source": [
    "df_emotiv_copy.shape"
   ]
  },
  {
   "cell_type": "code",
   "execution_count": 57,
   "metadata": {},
   "outputs": [
    {
     "data": {
      "text/plain": [
       "array([256])"
      ]
     },
     "execution_count": 57,
     "metadata": {},
     "output_type": "execute_result"
    }
   ],
   "source": [
    "# print all length of data columns\n",
    "df_emotiv_copy['data'].apply(len).unique()\n"
   ]
  },
  {
   "cell_type": "code",
   "execution_count": 58,
   "metadata": {},
   "outputs": [],
   "source": [
    "import numpy as np\n",
    "import matplotlib.pyplot as plt\n",
    "from scipy.signal import stft\n",
    "\n",
    "def compute_stft_for_segment(segment, fs, n_fft=256, hop_length=128):\n",
    "    \"\"\"\n",
    "    Compute STFT for a multi-channel EEG segment.\n",
    "    Args:\n",
    "        segment: 2D array of shape (256, 14), where rows are time points and columns are channels.\n",
    "        fs: Sampling frequency in Hz.\n",
    "        n_fft: Number of FFT points.\n",
    "        hop_length: Number of overlapping samples between windows.\n",
    "    Returns:\n",
    "        stft_results: 3D array of shape (n_channels, n_freq_bins, n_time_frames)\n",
    "                      containing the magnitude spectrograms for each channel.\n",
    "    \"\"\"\n",
    "    stft_results = []\n",
    "\n",
    "    # Compute STFT for each channel\n",
    "    _, _, Zxx = stft(segment, fs, nperseg=n_fft, noverlap=hop_length)\n",
    "    \n",
    "    magnitude = np.abs(Zxx)\n",
    "    \n",
    "    magnitude_db = 20 * np.log10(magnitude + 1e-6)  # Add small value to avoid log(0)\n",
    "    \n",
    "    # normalize the spectrum\n",
    "    magnitude_db -= magnitude_db.min()\n",
    "    magnitude_db /= magnitude_db.max()\n",
    "    \n",
    "    colormap = plt.get_cmap('jet')\n",
    "    spectogram_colored = colormap(magnitude_db)\n",
    "    \n",
    "    spectogram_uint8 = (spectogram_colored[:, :, :3] * 255).astype(np.uint8)\n",
    "\n",
    "    \n",
    "    return np.array(spectogram_uint8)  # Shape: (n_channels, n_freq_bins, n_time_frames)"
   ]
  },
  {
   "cell_type": "code",
   "execution_count": 59,
   "metadata": {},
   "outputs": [
    {
     "data": {
      "text/plain": [
       "0         [319.95956051800994, 1666.1927774765552, 3682....\n",
       "1         [326.79103872077593, 1701.7130372662098, 3761....\n",
       "2         [330.3747649684057, 1720.6844263083037, 3803.7...\n",
       "3         [306.296604112478, 1595.786876110437, 3529.054...\n",
       "4         [327.4256568611725, 1706.064922511325, 3773.66...\n",
       "                                ...                        \n",
       "910471    [329.62815534864836, 1717.354228389748, 3798.2...\n",
       "910472    [307.97647579332926, 1604.502394987476, 3549.2...\n",
       "910473    [333.1372206343024, 1735.7872799909135, 3839.9...\n",
       "910474    [287.4820413306202, 1497.754963935756, 3312.54...\n",
       "910475    [285.72750868779315, 1488.575768579764, 3292.8...\n",
       "Name: data, Length: 904806, dtype: object"
      ]
     },
     "execution_count": 59,
     "metadata": {},
     "output_type": "execute_result"
    }
   ],
   "source": [
    "df_emotiv_copy[\"data\"]"
   ]
  },
  {
   "cell_type": "code",
   "execution_count": 60,
   "metadata": {},
   "outputs": [],
   "source": [
    "# change data column to stft results\n",
    "n_fft  = min_size // 2\n",
    "hop_length = n_fft // 2\n",
    "\n",
    "df_emotiv_copy['stft'] = df_emotiv_copy['data'].apply(lambda x: compute_stft_for_segment(np.array(x), fs, n_fft, hop_length))\n"
   ]
  },
  {
   "cell_type": "code",
   "execution_count": 61,
   "metadata": {},
   "outputs": [
    {
     "data": {
      "text/plain": [
       "(65, 5, 3)"
      ]
     },
     "execution_count": 61,
     "metadata": {},
     "output_type": "execute_result"
    }
   ],
   "source": [
    "df_emotiv_copy['stft'][0].shape"
   ]
  },
  {
   "cell_type": "code",
   "execution_count": 62,
   "metadata": {},
   "outputs": [],
   "source": [
    "# normalize stft results by max - min\n",
    "# df_emotiv_copy['stft'] = df_emotiv_copy['stft'].apply(lambda x: (x - np.min(x)) / (np.max(x) - np.min(x)))"
   ]
  },
  {
   "cell_type": "code",
   "execution_count": 63,
   "metadata": {},
   "outputs": [],
   "source": [
    "# flatten stft results\n",
    "# df_emotiv_copy['stft_flattened'] = df_emotiv_copy['stft'].apply(lambda x: x.flatten())\n",
    "# df_emotiv_copy['stft_flattened'][0].shape"
   ]
  },
  {
   "cell_type": "code",
   "execution_count": 64,
   "metadata": {},
   "outputs": [
    {
     "data": {
      "text/plain": [
       "array(['AF3', 'F7', 'F3', 'FC5', 'T7', 'P7', 'O1', 'O2', 'P8', 'T8',\n",
       "       'FC6', 'F4', 'F8', 'AF4'], dtype=object)"
      ]
     },
     "execution_count": 64,
     "metadata": {},
     "output_type": "execute_result"
    }
   ],
   "source": [
    "# need to create channel columns\n",
    "# get number of channels\n",
    "df_emotiv_copy[\"channel\"].unique()"
   ]
  },
  {
   "cell_type": "code",
   "execution_count": 65,
   "metadata": {},
   "outputs": [
    {
     "data": {
      "text/plain": [
       "Index(['id', 'event', 'device', 'channel', 'code', 'size', 'data', 'stft'], dtype='object')"
      ]
     },
     "execution_count": 65,
     "metadata": {},
     "output_type": "execute_result"
    }
   ],
   "source": [
    "df_emotiv_copy.columns"
   ]
  },
  {
   "cell_type": "code",
   "execution_count": 66,
   "metadata": {},
   "outputs": [
    {
     "data": {
      "text/plain": [
       "64629"
      ]
     },
     "execution_count": 66,
     "metadata": {},
     "output_type": "execute_result"
    }
   ],
   "source": [
    "# group by the id \n",
    "len(df_emotiv_copy[\"event\"].unique())"
   ]
  },
  {
   "cell_type": "code",
   "execution_count": 67,
   "metadata": {},
   "outputs": [
    {
     "name": "stdout",
     "output_type": "stream",
     "text": [
      "Empty DataFrame\n",
      "Columns: [id, event, device, channel, code, size, data, stft]\n",
      "Index: []\n"
     ]
    }
   ],
   "source": [
    "# we need to group by event \n",
    "df_emotiv_grouped = df_emotiv_copy.groupby(\"event\")\n",
    "\n",
    "channels = df_emotiv_copy[\"channel\"].unique()\n",
    "# after grouping them we need to concatenate the data based on channels\n",
    "\n",
    "# create a new data frame with the same columns\n",
    "df_final = pd.DataFrame(columns=df_emotiv_copy.columns)\n",
    "\n",
    "print(df_final)\n",
    "\n",
    "temp_df_final = {}\n",
    "\n",
    "for col in df_emotiv_copy.columns:\n",
    "    temp_df_final[col] = []\n",
    "\n",
    "# Step 3: Build the new DataFrame row by row\n",
    "for event, group in df_emotiv_grouped:\n",
    "    # Initialize a new row\n",
    "    sorted_data_by_channels = group[\"data\"]\n",
    "    \n",
    "    # stft is (65, 5, 3)\n",
    "    # now we have 14 in each group\n",
    "    # we want to make merged stft be (65, 14 * 5, 3)\n",
    "    merged_stft = np.concatenate(group[\"stft\"].values, axis=1)\n",
    "    new_row = {\n",
    "        \"id\": group[\"id\"].values[0],  # Use the first ID for the group\n",
    "        \"event\": event,               # Use the current event\n",
    "        \"device\": group[\"device\"].values[0],  # Use the first device for the group\n",
    "        \"channel\": \"all\",             # Consolidate channels\n",
    "        \"code\": group[\"code\"].values[0],  # Use the first code\n",
    "        \"size\": group[\"size\"].values[0],  # Use the first size\n",
    "        \"data\": np.concatenate(group[\"data\"].values),  # Concatenate data arrays\n",
    "        \"stft\": merged_stft,  # Concatenate STFT arrays\n",
    "        # \"stft_flattened\": np.concatenate(group[\"stft_flattened\"].values),  # Flattened concatenation\n",
    "    }\n",
    "    # Append the new row to the final DataFrame\n",
    "    df_final = pd.concat([df_final, pd.DataFrame([new_row])], ignore_index=True)"
   ]
  },
  {
   "cell_type": "code",
   "execution_count": 68,
   "metadata": {},
   "outputs": [
    {
     "name": "stdout",
     "output_type": "stream",
     "text": [
      "(65, 70, 3)\n"
     ]
    }
   ],
   "source": [
    "print(df_final[\"stft\"][0].shape)\n",
    "# print(df_final[\"stft_flattened\"][0].shape)\n",
    "\n",
    "# change code of -1 to 10\n",
    "df_final[\"code\"] = df_final[\"code\"].apply(lambda x: 10 if x == -1 else x)"
   ]
  },
  {
   "cell_type": "code",
   "execution_count": 69,
   "metadata": {},
   "outputs": [
    {
     "data": {
      "text/plain": [
       "array([(65, 70, 3)], dtype=object)"
      ]
     },
     "execution_count": 69,
     "metadata": {},
     "output_type": "execute_result"
    }
   ],
   "source": [
    "# check unique of shape in stft\n",
    "df_final[\"stft\"].apply(lambda x: x.shape).unique()"
   ]
  },
  {
   "cell_type": "code",
   "execution_count": 70,
   "metadata": {},
   "outputs": [
    {
     "name": "stdout",
     "output_type": "stream",
     "text": [
      "X shape: (64629, 3, 65, 70)\n",
      "y shape: (64629,)\n"
     ]
    }
   ],
   "source": [
    "import torch\n",
    "from torch.utils.data import Dataset, DataLoader\n",
    "from sklearn.model_selection import train_test_split\n",
    "\n",
    "class EEGDataset(Dataset):\n",
    "    def __init__(self, data, labels):\n",
    "        \"\"\"\n",
    "        Args:\n",
    "            data: A NumPy array of shape (num_samples, channels, height, width).\n",
    "            labels: A NumPy array of shape (num_samples,) with classification labels.\n",
    "        \"\"\"\n",
    "        self.data = torch.tensor(data, dtype=torch.float32)  # Convert data to tensor\n",
    "        self.labels = torch.tensor(labels, dtype=torch.long)  # Convert labels to tensor\n",
    "\n",
    "    def __len__(self):\n",
    "        return len(self.data)\n",
    "\n",
    "    def __getitem__(self, idx):\n",
    "        x = self.data[idx]  # Shape: (channels, height, width)\n",
    "        y = self.labels[idx]  # Shape: ()\n",
    "        return x, y\n",
    "    \n",
    "X = np.array(df_final['stft'].tolist())\n",
    "y = df_final['code'].values\n",
    "\n",
    "X = X.transpose(0, 3, 1, 2)  # Change shape from (n_samples, height, width, channels) to (n_samples, channels, height, width)\n",
    "\n",
    "print(\"X shape:\", X.shape)\n",
    "print(\"y shape:\", y.shape)\n",
    "\n",
    "# Split data into train, validation, and test sets\n",
    "X_train, X_temp, y_train, y_temp = train_test_split(X, y, test_size=0.3, random_state=42)\n",
    "X_val, X_test, y_val, y_test = train_test_split(X_temp, y_temp, test_size=0.5, random_state=42)\n",
    "\n",
    "\n",
    "# Create PyTorch Datasets\n",
    "train_dataset = EEGDataset(X_train, y_train)\n",
    "val_dataset = EEGDataset(X_val, y_val)\n",
    "test_dataset = EEGDataset(X_test, y_test)\n"
   ]
  },
  {
   "cell_type": "code",
   "execution_count": 71,
   "metadata": {},
   "outputs": [
    {
     "data": {
      "text/plain": [
       "(45240, 3, 65, 70)"
      ]
     },
     "execution_count": 71,
     "metadata": {},
     "output_type": "execute_result"
    }
   ],
   "source": [
    "X_train.shape"
   ]
  },
  {
   "cell_type": "code",
   "execution_count": 72,
   "metadata": {},
   "outputs": [
    {
     "name": "stdout",
     "output_type": "stream",
     "text": [
      "ModifiedCNN(\n",
      "  (conv1): Conv2d(3, 256, kernel_size=(5, 5), stride=(1, 1), padding=(2, 2))\n",
      "  (conv1_bn): BatchNorm2d(256, eps=1e-05, momentum=0.1, affine=True, track_running_stats=True)\n",
      "  (conv2): Conv2d(256, 256, kernel_size=(5, 5), stride=(1, 1), padding=(2, 2))\n",
      "  (conv2_bn): BatchNorm2d(256, eps=1e-05, momentum=0.1, affine=True, track_running_stats=True)\n",
      "  (pool1): MaxPool2d(kernel_size=8, stride=2, padding=0, dilation=1, ceil_mode=False)\n",
      "  (conv3): Conv2d(256, 128, kernel_size=(5, 5), stride=(1, 1), padding=(2, 2))\n",
      "  (conv3_bn): BatchNorm2d(128, eps=1e-05, momentum=0.1, affine=True, track_running_stats=True)\n",
      "  (conv4): Conv2d(128, 64, kernel_size=(5, 5), stride=(1, 1), padding=(2, 2))\n",
      "  (conv4_bn): BatchNorm2d(64, eps=1e-05, momentum=0.1, affine=True, track_running_stats=True)\n",
      "  (fc1): Linear(in_features=59392, out_features=4096, bias=True)\n",
      "  (dropout): Dropout(p=0.1, inplace=False)\n",
      "  (fc2): Linear(in_features=4096, out_features=11, bias=True)\n",
      ")\n",
      "tensor([1.], device='mps:0')\n"
     ]
    },
    {
     "ename": "KeyboardInterrupt",
     "evalue": "",
     "output_type": "error",
     "traceback": [
      "\u001b[0;31m---------------------------------------------------------------------------\u001b[0m",
      "\u001b[0;31mKeyboardInterrupt\u001b[0m                         Traceback (most recent call last)",
      "Cell \u001b[0;32mIn[72], line 127\u001b[0m\n\u001b[1;32m    124\u001b[0m optimizer\u001b[38;5;241m.\u001b[39mstep()\n\u001b[1;32m    126\u001b[0m \u001b[38;5;66;03m# Update metrics\u001b[39;00m\n\u001b[0;32m--> 127\u001b[0m running_loss \u001b[38;5;241m+\u001b[39m\u001b[38;5;241m=\u001b[39m \u001b[43mloss\u001b[49m\u001b[38;5;241;43m.\u001b[39;49m\u001b[43mitem\u001b[49m\u001b[43m(\u001b[49m\u001b[43m)\u001b[49m \u001b[38;5;241m*\u001b[39m inputs\u001b[38;5;241m.\u001b[39msize(\u001b[38;5;241m0\u001b[39m)\n\u001b[1;32m    128\u001b[0m _, preds \u001b[38;5;241m=\u001b[39m torch\u001b[38;5;241m.\u001b[39mmax(outputs, \u001b[38;5;241m1\u001b[39m)\n\u001b[1;32m    129\u001b[0m running_corrects \u001b[38;5;241m+\u001b[39m\u001b[38;5;241m=\u001b[39m torch\u001b[38;5;241m.\u001b[39msum(preds \u001b[38;5;241m==\u001b[39m labels)\u001b[38;5;241m.\u001b[39mitem()\n",
      "\u001b[0;31mKeyboardInterrupt\u001b[0m: "
     ]
    }
   ],
   "source": [
    "import torch\n",
    "import torch.nn as nn\n",
    "from torch.utils.data import TensorDataset, DataLoader\n",
    "import torch.nn.functional as F\n",
    "\n",
    "X_train_tensor = torch.tensor(X_train, dtype=torch.float32)\n",
    "y_train_tensor = torch.tensor(y_train, dtype=torch.long)\n",
    "\n",
    "train_dataset = TensorDataset(X_train_tensor, y_train_tensor)\n",
    "train_loader = DataLoader(train_dataset, batch_size=32, shuffle=True)\n",
    "\n",
    "\n",
    "\n",
    "class ModifiedCNN(nn.Module):\n",
    "    def __init__(self, num_classes):\n",
    "        super(ModifiedCNN, self).__init__()\n",
    "        # Layer 1: Conv2D + ReLU\n",
    "        self.conv1 = nn.Conv2d(3, 256, kernel_size=5, stride=1, padding=2)  # Adjust padding for spatial dimensions\n",
    "        self.conv1_bn = nn.BatchNorm2d(256)\n",
    "        \n",
    "        # Layer 2: Conv2D + ReLU\n",
    "        self.conv2 = nn.Conv2d(256, 256, kernel_size=5, stride=1, padding=2)  # Keep the same padding\n",
    "        self.conv2_bn = nn.BatchNorm2d(256)\n",
    "        \n",
    "        # Layer 3: MaxPool\n",
    "        self.pool1 = nn.MaxPool2d(kernel_size=8, stride=2)  # Pooling reduces spatial dimensions\n",
    "        \n",
    "        # Layer 4: Conv2D + ReLU\n",
    "        self.conv3 = nn.Conv2d(256, 128, kernel_size=5, stride=1, padding=2)\n",
    "        self.conv3_bn = nn.BatchNorm2d(128)\n",
    "        \n",
    "        # Layer 5: Conv2D + ReLU\n",
    "        self.conv4 = nn.Conv2d(128, 64, kernel_size=5, stride=1, padding=2)\n",
    "        self.conv4_bn = nn.BatchNorm2d(64)\n",
    "        \n",
    "        # Layer 6: Fully Connected (Dense)\n",
    "        self.flatten_size = self._get_flattened_size()\n",
    "        self.fc1 = nn.Linear(self.flatten_size, 4096)\n",
    "        \n",
    "        # Layer 7: Dropout\n",
    "        self.dropout = nn.Dropout(0.1)\n",
    "        \n",
    "        # Layer 8: Fully Connected (Softmax for classification)\n",
    "        self.fc2 = nn.Linear(4096, num_classes)\n",
    "    \n",
    "    def _get_flattened_size(self):\n",
    "        # Dynamically compute the flattened size after the last Conv2D layer\n",
    "        with torch.no_grad():\n",
    "            x = torch.zeros(1, 3, 65, 70)  # Input shape\n",
    "            x = F.relu(self.conv1_bn(self.conv1(x)))\n",
    "            x = F.relu(self.conv2_bn(self.conv2(x)))\n",
    "            x = self.pool1(x)\n",
    "            x = F.relu(self.conv3_bn(self.conv3(x)))\n",
    "            x = F.relu(self.conv4_bn(self.conv4(x)))\n",
    "            flattened_size = x.numel()\n",
    "        return flattened_size\n",
    "    \n",
    "    def forward(self, x):\n",
    "        # Layer 1\n",
    "        x = F.relu(self.conv1_bn(self.conv1(x)))\n",
    "        # Layer 2\n",
    "        x = F.relu(self.conv2_bn(self.conv2(x)))\n",
    "        # Layer 3\n",
    "        x = self.pool1(x)\n",
    "        # Layer 4\n",
    "        x = F.relu(self.conv3_bn(self.conv3(x)))\n",
    "        # Layer 5\n",
    "        x = F.relu(self.conv4_bn(self.conv4(x)))\n",
    "        # Flatten\n",
    "        x = x.view(x.size(0), -1)\n",
    "        # Layer 6\n",
    "        x = F.relu(self.fc1(x))\n",
    "        # Layer 7\n",
    "        x = self.dropout(x)\n",
    "        # Layer 8\n",
    "        x = self.fc2(x)\n",
    "        return x\n",
    "\n",
    "\n",
    "# Define model\n",
    "\n",
    "num_classes = len(np.unique(y_train))  # Number of classes\n",
    "model = ModifiedCNN(num_classes)\n",
    "\n",
    "# Print the model architecture\n",
    "print(model)\n",
    "\n",
    "# Move the model to the GPU if available\n",
    "device = torch.device(\"cuda\" if torch.cuda.is_available() else \"cpu\")\n",
    "\n",
    "if torch.cuda.is_available():\n",
    "    print(torch.cuda.get_device_name(0))\n",
    "\n",
    "if torch.backends.mps.is_available():\n",
    "    mps_device = torch.device(\"mps\")\n",
    "    x = torch.ones(1, device=mps_device)\n",
    "    print (x)\n",
    "    device = mps_device\n",
    "else:\n",
    "    print (\"MPS device not found.\")\n",
    "\n",
    "model.to(device)\n",
    "\n",
    "# Define loss function and optimizer\n",
    "criterion = nn.CrossEntropyLoss()\n",
    "optimizer = torch.optim.Adam(model.parameters(), lr=0.0001)\n",
    "\n",
    "# Training loop\n",
    "num_epochs = 10\n",
    "for epoch in range(num_epochs):\n",
    "    model.train()\n",
    "    running_loss = 0.0\n",
    "    running_corrects = 0\n",
    "    total_samples = 0\n",
    "\n",
    "    for inputs, labels in train_loader:\n",
    "        inputs, labels = inputs.to(device), labels.to(device)\n",
    "\n",
    "        optimizer.zero_grad()\n",
    "        outputs = model(inputs)\n",
    "        loss = criterion(outputs, labels)\n",
    "\n",
    "        loss.backward()\n",
    "        optimizer.step()\n",
    "\n",
    "        # Update metrics\n",
    "        running_loss += loss.item() * inputs.size(0)\n",
    "        _, preds = torch.max(outputs, 1)\n",
    "        running_corrects += torch.sum(preds == labels).item()\n",
    "        total_samples += inputs.size(0)\n",
    "\n",
    "    epoch_loss = running_loss / total_samples\n",
    "    epoch_acc = running_corrects / total_samples * 100\n",
    "    print(f'Epoch {epoch+1}/{num_epochs}, Loss: {epoch_loss:.4f}, Accuracy: {epoch_acc:.2f}%')"
   ]
  },
  {
   "cell_type": "code",
   "execution_count": null,
   "metadata": {},
   "outputs": [
    {
     "data": {
      "image/png": "[encoded data removed]",
      "text/plain": [
       "<Figure size 1000x700 with 2 Axes>"
      ]
     },
     "metadata": {},
     "output_type": "display_data"
    }
   ],
   "source": [
    "test_loader = DataLoader(test_dataset, batch_size=32, shuffle=False)\n",
    "\n",
    "# draw confusion matrix\n",
    "from sklearn.metrics import confusion_matrix\n",
    "import seaborn as sns\n",
    "import matplotlib.pyplot as plt\n",
    "\n",
    "def plot_confusion_matrix(y_true, y_pred, labels):\n",
    "    cm = confusion_matrix(y_true, y_pred)\n",
    "    cm = cm / cm.sum(axis=1)[:, np.newaxis]  # Normalize\n",
    "    df_cm = pd.DataFrame(cm, index=labels, columns=labels)\n",
    "    plt.figure(figsize=(10, 7))\n",
    "    sns.heatmap(df_cm, annot=True, cmap=\"Blues\", fmt=\".2f\")\n",
    "    plt.title(\"Confusion Matrix\")\n",
    "    plt.xlabel(\"Predicted Label\")\n",
    "    plt.ylabel(\"True Label\")\n",
    "    plt.show()\n",
    "\n",
    "# Get predictions\n",
    "y_true = []\n",
    "y_pred = []\n",
    "with torch.no_grad():\n",
    "    for inputs, labels in test_loader:\n",
    "        outputs = model(inputs)\n",
    "        _, predicted = torch.max(outputs, 1)\n",
    "        y_true.extend(labels.tolist())\n",
    "        y_pred.extend(predicted.tolist())\n",
    "\n",
    "# Plot confusion matrix\n",
    "plot_confusion_matrix(y_true, y_pred, range(11))"
   ]
  },
  {
   "cell_type": "code",
   "execution_count": null,
   "metadata": {},
   "outputs": [],
   "source": []
  }
 ],
 "metadata": {
  "kernelspec": {
   "display_name": ".venv",
   "language": "python",
   "name": "python3"
  },
  "language_info": {
   "codemirror_mode": {
    "name": "ipython",
    "version": 3
   },
   "file_extension": ".py",
   "mimetype": "text/x-python",
   "name": "python",
   "nbconvert_exporter": "python",
   "pygments_lexer": "ipython3",
   "version": "3.11.5"
  }
 },
 "nbformat": 4,
 "nbformat_minor": 2
}
