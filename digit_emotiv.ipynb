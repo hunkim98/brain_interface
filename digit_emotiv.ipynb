{
 "cells": [
  {
   "cell_type": "markdown",
   "metadata": {},
   "source": [
    "Emotive for LSL realtime\n",
    "\n",
    "https://www.emotiv.com/blogs/tutorials/emotiv-lab-streaming-layer-lsl"
   ]
  },
  {
   "cell_type": "markdown",
   "metadata": {},
   "source": [
    "FFT\n",
    "\n",
    "https://github.com/KrishnaVeer7712/DIGITS-CLASSIFICATIONS-USING-ELECTROENCEPHALOGRAPHY-SIGNALS/blob/master/Brain_123%20(1).ipynb"
   ]
  },
  {
   "cell_type": "markdown",
   "metadata": {},
   "source": [
    "https://github.com/ayushayt/ImaginedSpeechRecognition"
   ]
  },
  {
   "cell_type": "code",
   "execution_count": null,
   "metadata": {},
   "outputs": [
    {
     "name": "stdout",
     "output_type": "stream",
     "text": [
      "Extracting EDF parameters from /Users/hunkim/Github/studio-brain/data/emotiv/Digit/shubhamtiwari_1.edf...\n",
      "EDF file detected\n",
      "Setting channel info structure...\n",
      "Creating raw.info structure...\n",
      "(39, 1536)\n"
     ]
    },
    {
     "ename": "ValueError",
     "evalue": "could not broadcast input array from shape (14,1536) into shape (14,1280)",
     "output_type": "error",
     "traceback": [
      "\u001b[0;31m---------------------------------------------------------------------------\u001b[0m",
      "\u001b[0;31mValueError\u001b[0m                                Traceback (most recent call last)",
      "Cell \u001b[0;32mIn[1], line 24\u001b[0m\n\u001b[1;32m     22\u001b[0m         _,\u001b[38;5;28mcls\u001b[39m \u001b[38;5;241m=\u001b[39m file\u001b[38;5;241m.\u001b[39msplit(\u001b[38;5;124m'\u001b[39m\u001b[38;5;124m_\u001b[39m\u001b[38;5;124m'\u001b[39m)\n\u001b[1;32m     23\u001b[0m         Y[ctr] \u001b[38;5;241m=\u001b[39m \u001b[38;5;28mint\u001b[39m(\u001b[38;5;28mcls\u001b[39m[\u001b[38;5;241m0\u001b[39m])\n\u001b[0;32m---> 24\u001b[0m         \u001b[43mX\u001b[49m\u001b[43m[\u001b[49m\u001b[43mctr\u001b[49m\u001b[43m,\u001b[49m\u001b[43m:\u001b[49m\u001b[43m,\u001b[49m\u001b[43m:\u001b[49m\u001b[43m]\u001b[49m \u001b[38;5;241m=\u001b[39m raw_data\n\u001b[1;32m     25\u001b[0m         ctr \u001b[38;5;241m=\u001b[39m ctr\u001b[38;5;241m+\u001b[39m\u001b[38;5;241m1\u001b[39m\n\u001b[1;32m     27\u001b[0m \u001b[38;5;28mprint\u001b[39m(ctr)\n",
      "\u001b[0;31mValueError\u001b[0m: could not broadcast input array from shape (14,1536) into shape (14,1280)"
     ]
    }
   ],
   "source": [
    "import mne\n",
    "import os\n",
    "import numpy as np\n",
    "\n",
    "root_folder = \"./data/emotiv/Digit\"\n",
    "\n",
    "\n",
    "X = np.zeros((230,14,1280))\n",
    "Y = np.zeros((230,))\n",
    "\n",
    "ctr = 0\n",
    "\n",
    "for file in os.listdir(root_folder):\n",
    "    if file.endswith(\".edf\"):\n",
    "        data = mne.io.read_raw_edf(os.path.join(root_folder,file))\n",
    "        raw_data = data[2:16][0]*1000*1000\n",
    "        raw_data = raw_data[:,0:1280]\n",
    "        print(data.get_data().shape)\n",
    "        \n",
    "        #a = raw_data.shape\n",
    "        \n",
    "        _,cls = file.split('_')\n",
    "        Y[ctr] = int(cls[0])\n",
    "        X[ctr,:,:] = raw_data\n",
    "        ctr = ctr+1\n",
    "\n",
    "print(ctr)"
   ]
  },
  {
   "cell_type": "code",
   "execution_count": 39,
   "metadata": {},
   "outputs": [
    {
     "data": {
      "text/plain": [
       "(230, 14, 1280)"
      ]
     },
     "execution_count": 39,
     "metadata": {},
     "output_type": "execute_result"
    }
   ],
   "source": [
    "X.shape"
   ]
  },
  {
   "cell_type": "code",
   "execution_count": 41,
   "metadata": {},
   "outputs": [
    {
     "name": "stdout",
     "output_type": "stream",
     "text": [
      "Extracting EDF parameters from /Users/hunkim/Github/studio-brain/data/emotiv/sample.edf...\n",
      "EDF file detected\n",
      "Setting channel info structure...\n",
      "Creating raw.info structure...\n",
      "(14, 2560)\n",
      "0.004534358974358973\n",
      "0.0\n",
      "[4321.53846154 4320.         4315.8974359  ... 4270.76923077 4275.38461538\n",
      " 4275.8974359 ]\n"
     ]
    }
   ],
   "source": [
    "# read test sample\n",
    "sample_file = \"./data/emotiv/sample.edf\"\n",
    "data = mne.io.read_raw_edf(sample_file)\n",
    "raw_data = data[2:16][0]\n",
    "raw_data = raw_data\n",
    "\n",
    "test_X = raw_data\n",
    "\n",
    "print(test_X.shape)\n",
    "\n",
    "# 1280 means 10 seconds of data with 128Hz sampling rate\n",
    "\n",
    "# get the max of all the data\n",
    "max_val = np.max(test_X)\n",
    "print(max_val)\n",
    "min_val = np.min(test_X)\n",
    "print(min_val)\n",
    "print(test_X[12] * 1000 * 1000)\n",
    "\n"
   ]
  },
  {
   "cell_type": "code",
   "execution_count": null,
   "metadata": {},
   "outputs": [],
   "source": []
  },
  {
   "cell_type": "code",
   "execution_count": 3,
   "metadata": {},
   "outputs": [
    {
     "data": {
      "text/plain": [
       "array([0., 1., 2., 3., 4., 5., 6., 7., 8., 9.])"
      ]
     },
     "execution_count": 3,
     "metadata": {},
     "output_type": "execute_result"
    }
   ],
   "source": [
    "# find unique value of Y\n",
    "np.unique(Y)"
   ]
  },
  {
   "cell_type": "code",
   "execution_count": 14,
   "metadata": {},
   "outputs": [
    {
     "name": "stdout",
     "output_type": "stream",
     "text": [
      "Class  0  count  23\n",
      "Class  1  count  23\n",
      "Class  2  count  23\n",
      "Class  3  count  23\n",
      "Class  4  count  23\n",
      "Class  5  count  23\n",
      "Class  6  count  23\n",
      "Class  7  count  23\n",
      "Class  8  count  23\n",
      "Class  9  count  23\n"
     ]
    }
   ],
   "source": [
    "# plot Y based on count\n",
    "import matplotlib.pyplot as plt\n",
    "\n",
    "for i in range(np.unique(Y).shape[0]):\n",
    "    print(\"Class \",i,\" count \",np.sum(Y==i))\n"
   ]
  },
  {
   "cell_type": "code",
   "execution_count": null,
   "metadata": {},
   "outputs": [],
   "source": [
    "# we have 14 channels \n",
    "npt = 32\n",
    "row_cnt = X.shape[0]\n",
    "X_new = np.zeros((36110,npt,14))\n",
    "Y_new = np.zeros((36110,))\n",
    "# npt = 32 # number of points\n",
    "# stride = 8 # stride, i.e. how many points to skip\n",
    "stride = int(npt/4)\n",
    "ctr = 0\n",
    "for i in range(0,230):\n",
    "    y = Y[i]\n",
    "    a= X[i,:,:]\n",
    "    a = a.transpose()\n",
    "    val = 0\n",
    "    while val<=(len(a)-npt):\n",
    "        x = a[val:val+npt,:]\n",
    "        X_new[ctr,:,:] = x\n",
    "        Y_new[ctr] = y\n",
    "        val = val+stride\n",
    "        ctr = ctr+1"
   ]
  },
  {
   "cell_type": "code",
   "execution_count": 15,
   "metadata": {},
   "outputs": [
    {
     "data": {
      "text/plain": [
       "(36110, 200, 14)"
      ]
     },
     "execution_count": 15,
     "metadata": {},
     "output_type": "execute_result"
    }
   ],
   "source": [
    "X_new.shape"
   ]
  },
  {
   "cell_type": "code",
   "execution_count": null,
   "metadata": {},
   "outputs": [],
   "source": [
    "import torch\n",
    "import torch.nn as nn\n",
    "import torch.optim as optim\n",
    "from sklearn.model_selection import train_test_split\n",
    "from sklearn.metrics import accuracy_score, confusion_matrix\n",
    "import seaborn as sns\n",
    "from torch.utils.data import DataLoader, TensorDataset\n",
    "import numpy as np\n",
    "import torch.nn.functional as F\n",
    "\n",
    "# Split data\n",
    "X_train, X_test, Y_train, Y_test = train_test_split(X_new, Y_new, test_size=0.2, random_state=1)\n",
    "\n",
    "# Convert data to PyTorch tensors\n",
    "X_train = torch.tensor(X_train, dtype=torch.float32)\n",
    "Y_train = torch.tensor(Y_train, dtype=torch.long)  # Long for classification targets\n",
    "X_test = torch.tensor(X_test, dtype=torch.float32)\n",
    "Y_test = torch.tensor(Y_test, dtype=torch.long)\n",
    "\n",
    "# Create DataLoaders\n",
    "train_dataset = TensorDataset(X_train, Y_train)\n",
    "train_loader = DataLoader(train_dataset, batch_size=128, shuffle=True)\n",
    "\n",
    "# Define the PyTorch model\n",
    "class EEGNet(nn.Module):\n",
    "    def __init__(self):\n",
    "        super(EEGNet, self).__init__()\n",
    "        self.batch_norm1 = nn.BatchNorm1d(14)  # Channels should match input shape\n",
    "        self.conv1 = nn.Conv1d(14, 128, kernel_size=10, stride=1, padding='same')\n",
    "        self.batch_norm2 = nn.BatchNorm1d(128)\n",
    "        self.pool = nn.MaxPool1d(2)\n",
    "        self.lstm = nn.LSTM(input_size=128, hidden_size=256, batch_first=True)\n",
    "        self.batch_norm3 = nn.BatchNorm1d(256)\n",
    "        self.fc1 = nn.Linear(256, 128)\n",
    "        self.dropout = nn.Dropout(0.5)\n",
    "        self.output = nn.Linear(128, 10)\n",
    "\n",
    "    def forward(self, x):\n",
    "        x = x.permute(0, 2, 1)  # Switch to (batch, channels, sequence)\n",
    "        x = self.batch_norm1(x)\n",
    "        x = F.relu(self.conv1(x))\n",
    "        x = self.batch_norm2(x)\n",
    "        x = self.pool(x)\n",
    "        x = x.permute(0, 2, 1)  # Reorder for LSTM (batch, sequence, input_size)\n",
    "        x, _ = self.lstm(x)\n",
    "        x = self.batch_norm3(x[:, -1, :])  # Use the last LSTM output\n",
    "        x = F.relu(self.fc1(x))\n",
    "        x = self.dropout(x)\n",
    "        x = self.output(x)\n",
    "        return F.log_softmax(x, dim=1)\n"
   ]
  },
  {
   "cell_type": "code",
   "execution_count": null,
   "metadata": {},
   "outputs": [],
   "source": [
    "# print diversification in the Y_train\n",
    "for i in range(np.unique(Y_train).shape[0]):\n",
    "    print(\"Class \",i,\" count \",np.sum(Y_train==i))"
   ]
  },
  {
   "cell_type": "code",
   "execution_count": 18,
   "metadata": {},
   "outputs": [
    {
     "name": "stdout",
     "output_type": "stream",
     "text": [
      "torch.Size([28888, 200, 14])\n",
      "torch.Size([28888])\n"
     ]
    }
   ],
   "source": [
    "print(X_train.shape)\n",
    "print(Y_train.shape)"
   ]
  },
  {
   "cell_type": "code",
   "execution_count": 19,
   "metadata": {},
   "outputs": [
    {
     "data": {
      "text/plain": [
       "array([0, 1, 2, 3, 4, 5, 6, 7, 8, 9])"
      ]
     },
     "execution_count": 19,
     "metadata": {},
     "output_type": "execute_result"
    }
   ],
   "source": [
    "# count how many unique values in train\n",
    "np.unique(Y_train)"
   ]
  },
  {
   "cell_type": "code",
   "execution_count": 20,
   "metadata": {},
   "outputs": [
    {
     "name": "stdout",
     "output_type": "stream",
     "text": [
      "Epoch 1, Validation Accuracy: 0.8744115203544724\n",
      "Epoch 2, Validation Accuracy: 0.8744461368042094\n",
      "Epoch 3, Validation Accuracy: 0.8744461368042094\n",
      "Epoch 4, Validation Accuracy: 0.8744461368042094\n",
      "Epoch 5, Validation Accuracy: 0.8744461368042094\n",
      "Test Accuracy: 0.8716422043755192\n"
     ]
    },
    {
     "data": {
      "image/png": "[encoded data removed]",
      "text/plain": [
       "<Figure size 640x480 with 2 Axes>"
      ]
     },
     "metadata": {},
     "output_type": "display_data"
    }
   ],
   "source": [
    "# Instantiate model, define loss and optimizer\n",
    "model = EEGNet()\n",
    "criterion = nn.CrossEntropyLoss()\n",
    "optimizer = optim.Adam(model.parameters(), lr=0.001)\n",
    "\n",
    "# Early stopping criteria\n",
    "best_accuracy = 0\n",
    "patience = 10\n",
    "trigger_times = 0\n",
    "\n",
    "# Training loop\n",
    "for epoch in range(5):\n",
    "    model.train()\n",
    "    for batch_X, batch_Y in train_loader:\n",
    "        optimizer.zero_grad()\n",
    "        outputs = model(batch_X)\n",
    "        loss = criterion(outputs, batch_Y)\n",
    "        loss.backward()\n",
    "        optimizer.step()\n",
    "    \n",
    "    # Validation\n",
    "    model.eval()\n",
    "    with torch.no_grad():\n",
    "        val_outputs = model(X_train)\n",
    "        val_loss = criterion(val_outputs, Y_train)\n",
    "        _, val_preds = torch.max(val_outputs, 1)\n",
    "        val_accuracy = accuracy_score(Y_train.numpy(), val_preds.numpy())\n",
    "        print(f\"Epoch {epoch+1}, Validation Accuracy: {val_accuracy}\")\n",
    "\n",
    "        # Early stopping logic\n",
    "        if val_accuracy > best_accuracy:\n",
    "            best_accuracy = val_accuracy\n",
    "            trigger_times = 0\n",
    "        else:\n",
    "            trigger_times += 1\n",
    "            if trigger_times >= patience:\n",
    "                print(\"Early stopping\")\n",
    "                break\n",
    "\n",
    "# Testing and evaluation\n",
    "model.eval()\n",
    "with torch.no_grad():\n",
    "    test_outputs = model(X_test)\n",
    "    _, Y_pred = torch.max(test_outputs, 1)\n",
    "    accuracy = accuracy_score(Y_test, Y_pred)\n",
    "    print(\"Test Accuracy:\", accuracy)\n",
    "\n",
    "    # Confusion Matrix\n",
    "    sns.heatmap(confusion_matrix(Y_test, Y_pred), annot=True, fmt='g')\n",
    "\n",
    "# save the model\n"
   ]
  },
  {
   "cell_type": "code",
   "execution_count": null,
   "metadata": {},
   "outputs": [],
   "source": [
    "# predict\n",
    "model.eval()\n",
    "\n",
    "sample_one = torch.tensor(test_X, dtype=torch.float32)\n",
    "sample_one = sample_one.unsqueeze(0)\n",
    "sample_one.shape # torch.Size([1, 1280, 14])\n",
    "\n"
   ]
  },
  {
   "cell_type": "code",
   "execution_count": 9,
   "metadata": {},
   "outputs": [],
   "source": [
    "torch.save(model.state_dict(), \"model_200_14.pth\")"
   ]
  },
  {
   "cell_type": "code",
   "execution_count": 49,
   "metadata": {},
   "outputs": [
    {
     "name": "stdout",
     "output_type": "stream",
     "text": [
      "tensor([3])\n"
     ]
    },
    {
     "name": "stderr",
     "output_type": "stream",
     "text": [
      "/var/folders/wy/50c5sv7n4wsfhhww_wwjz2tr0000gn/T/ipykernel_5183/271730188.py:2: FutureWarning: You are using `torch.load` with `weights_only=False` (the current default value), which uses the default pickle module implicitly. It is possible to construct malicious pickle data which will execute arbitrary code during unpickling (See https://github.com/pytorch/pytorch/blob/main/SECURITY.md#untrusted-models for more details). In a future release, the default value for `weights_only` will be flipped to `True`. This limits the functions that could be executed during unpickling. Arbitrary objects will no longer be allowed to be loaded via this mode unless they are explicitly allowlisted by the user via `torch.serialization.add_safe_globals`. We recommend you start setting `weights_only=True` for any use case where you don't have full control of the loaded file. Please open an issue on GitHub for any issues related to this experimental feature.\n",
      "  old_model.load_state_dict(torch.load(\"model_32_14.pth\"))\n"
     ]
    }
   ],
   "source": [
    "old_model = EEGNet()\n",
    "old_model.load_state_dict(torch.load(\"model_32_14.pth\"))\n",
    "\n",
    "\n",
    "# create random (1,32,14) tensor\n",
    "sample_one = torch.randn(1,32,14)\n",
    "# put in model\n",
    "old_model.eval()\n",
    "with torch.no_grad():\n",
    "    test_outputs = old_model(sample_one)\n",
    "    _, Y_pred = torch.max(test_outputs, 1)\n",
    "    print(Y_pred)"
   ]
  },
  {
   "cell_type": "code",
   "execution_count": null,
   "metadata": {},
   "outputs": [],
   "source": []
  }
 ],
 "metadata": {
  "kernelspec": {
   "display_name": ".venv",
   "language": "python",
   "name": "python3"
  },
  "language_info": {
   "codemirror_mode": {
    "name": "ipython",
    "version": 3
   },
   "file_extension": ".py",
   "mimetype": "text/x-python",
   "name": "python",
   "nbconvert_exporter": "python",
   "pygments_lexer": "ipython3",
   "version": "3.11.5"
  }
 },
 "nbformat": 4,
 "nbformat_minor": 2
}
