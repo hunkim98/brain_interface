{
 "cells": [
  {
   "cell_type": "markdown",
   "metadata": {},
   "source": [
    "Dataset: https://www.kaggle.com/datasets/fabriciotorquato/eeg-data-from-hands-movement"
   ]
  },
  {
   "cell_type": "code",
   "execution_count": 2,
   "metadata": {},
   "outputs": [],
   "source": [
    "import numpy as np\n",
    "import matplotlib.pyplot as plt\n",
    "import pandas as pd"
   ]
  },
  {
   "cell_type": "code",
   "execution_count": 3,
   "metadata": {},
   "outputs": [],
   "source": [
    "eeg_user_a = pd.read_csv('./data/hand_move/user_a.csv')\n",
    "eeg_user_b = pd.read_csv('./data/hand_move/user_b.csv')\n",
    "eeg_user_c = pd.read_csv('./data/hand_move/user_c.csv')\n",
    "eeg_user_d = pd.read_csv('./data/hand_move/user_d.csv')\n"
   ]
  },
  {
   "cell_type": "code",
   "execution_count": 4,
   "metadata": {},
   "outputs": [
    {
     "data": {
      "text/plain": [
       "Index(['Class', 'AF3 delta std', 'AF3 delta m', 'AF3 theta std', 'AF3 theta m',\n",
       "       'AF3 alpha std', 'AF3 alpha m', 'AF3 beta std', 'AF3 beta m',\n",
       "       'F7 delta std',\n",
       "       ...\n",
       "       'F8 beta std', 'F8 beta m', 'AF4 delta std', 'AF4 delta m',\n",
       "       'AF4 theta std', 'AF4 theta m', 'AF4 alpha std', 'AF4 alpha m',\n",
       "       'AF4 beta std', 'AF4 beta m'],\n",
       "      dtype='object', length=113)"
      ]
     },
     "execution_count": 4,
     "metadata": {},
     "output_type": "execute_result"
    }
   ],
   "source": [
    "eeg_user_a.columns"
   ]
  },
  {
   "cell_type": "code",
   "execution_count": 5,
   "metadata": {},
   "outputs": [
    {
     "data": {
      "text/plain": [
       "array([1., 2., 0.])"
      ]
     },
     "execution_count": 5,
     "metadata": {},
     "output_type": "execute_result"
    }
   ],
   "source": [
    "eeg_user_a[\"Class\"].unique()"
   ]
  },
  {
   "cell_type": "code",
   "execution_count": null,
   "metadata": {},
   "outputs": [],
   "source": []
  }
 ],
 "metadata": {
  "kernelspec": {
   "display_name": ".venv",
   "language": "python",
   "name": "python3"
  },
  "language_info": {
   "codemirror_mode": {
    "name": "ipython",
    "version": 3
   },
   "file_extension": ".py",
   "mimetype": "text/x-python",
   "name": "python",
   "nbconvert_exporter": "python",
   "pygments_lexer": "ipython3",
   "version": "3.11.5"
  }
 },
 "nbformat": 4,
 "nbformat_minor": 2
}
