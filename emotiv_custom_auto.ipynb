{
 "cells": [
  {
   "cell_type": "code",
   "execution_count": 15,
   "metadata": {},
   "outputs": [],
   "source": [
    "import mne\n",
    "import os\n",
    "import numpy as np"
   ]
  },
  {
   "cell_type": "code",
   "execution_count": 64,
   "metadata": {},
   "outputs": [
    {
     "name": "stdout",
     "output_type": "stream",
     "text": [
      "nine2_EPOCX_243632_2024.11.20T00.53.45.05.00.md.csv\n",
      "Processing file:  nine2_EPOCX_243632_2024.11.20T00.53.45.05.00.md.csv\n",
      "nine_EPOCX_243632_2024.11.20T00.53.06.05.00.md.csv\n",
      "Processing file:  nine_EPOCX_243632_2024.11.20T00.53.06.05.00.md.csv\n",
      "zero_EPOCX_243632_2024.11.20T00.54.20.05.00.md.csv\n",
      "Processing file:  zero_EPOCX_243632_2024.11.20T00.54.20.05.00.md.csv\n",
      "zero2_EPOCX_243632_2024.11.20T00.55.04.05.00.md.csv\n",
      "Processing file:  zero2_EPOCX_243632_2024.11.20T00.55.04.05.00.md.csv\n",
      "seven_EPOCX_243632_2024.11.20T00.50.31.05.00.md.csv\n",
      "Processing file:  seven_EPOCX_243632_2024.11.20T00.50.31.05.00.md.csv\n",
      "seven2_EPOCX_243632_2024.11.20T00.51.08.05.00.md.csv\n",
      "Processing file:  seven2_EPOCX_243632_2024.11.20T00.51.08.05.00.md.csv\n",
      "six2_EPOCX_243632_2024.11.20T00.49.52.05.00.md.csv\n",
      "Processing file:  six2_EPOCX_243632_2024.11.20T00.49.52.05.00.md.csv\n",
      "six_EPOCX_243632_2024.11.20T00.49.13.05.00.md.csv\n",
      "Processing file:  six_EPOCX_243632_2024.11.20T00.49.13.05.00.md.csv\n",
      "one2_EPOCX_243632_2024.11.20T00.42.26.05.00.md.csv\n",
      "Processing file:  one2_EPOCX_243632_2024.11.20T00.42.26.05.00.md.csv\n",
      "one_EPOCX_247201_2024.11.20T00.39.57.05.00.md.csv\n",
      "Processing file:  one_EPOCX_247201_2024.11.20T00.39.57.05.00.md.csv\n",
      "eight2_EPOCX_243632_2024.11.20T00.52.26.05.00.md.csv\n",
      "Processing file:  eight2_EPOCX_243632_2024.11.20T00.52.26.05.00.md.csv\n",
      "eight_EPOCX_243632_2024.11.20T00.51.45.05.00.md.csv\n",
      "Processing file:  eight_EPOCX_243632_2024.11.20T00.51.45.05.00.md.csv\n",
      "four2_EPOCX_243632_2024.11.20T00.46.41.05.00.md.csv\n",
      "Processing file:  four2_EPOCX_243632_2024.11.20T00.46.41.05.00.md.csv\n",
      "four_EPOCX_243632_2024.11.20T00.46.01.05.00.md.csv\n",
      "Processing file:  four_EPOCX_243632_2024.11.20T00.46.01.05.00.md.csv\n",
      "three_EPOCX_243632_2024.11.20T00.44.38.05.00.md.csv\n",
      "Processing file:  three_EPOCX_243632_2024.11.20T00.44.38.05.00.md.csv\n",
      "three2_EPOCX_243632_2024.11.20T00.45.15.05.00.md.csv\n",
      "Processing file:  three2_EPOCX_243632_2024.11.20T00.45.15.05.00.md.csv\n",
      "two2_EPOCX_247204_2024.11.20T00.43.59.05.00.md.csv\n",
      "Processing file:  two2_EPOCX_247204_2024.11.20T00.43.59.05.00.md.csv\n",
      "two_EPOCX_247203_2024.11.20T00.43.19.05.00.md.csv\n",
      "Processing file:  two_EPOCX_247203_2024.11.20T00.43.19.05.00.md.csv\n",
      "five_EPOCX_243632_2024.11.20T00.47.25.05.00.md.csv\n",
      "Processing file:  five_EPOCX_243632_2024.11.20T00.47.25.05.00.md.csv\n",
      "five2_EPOCX_243632_2024.11.20T00.48.08.05.00.md.csv\n",
      "Processing file:  five2_EPOCX_243632_2024.11.20T00.48.08.05.00.md.csv\n"
     ]
    }
   ],
   "source": [
    "import pandas as pd\n",
    "\n",
    "folder_name = \"digit\"\n",
    "root_folder = f\"./data/emotiv/custom/{folder_name}\"\n",
    "\n",
    "dfs = {\n",
    "    \n",
    "}\n",
    "\n",
    "pad = 600\n",
    "\n",
    "for folder in os.listdir(root_folder):\n",
    "    # check if folder is a directory\n",
    "    isFolder = os.path.isdir(os.path.join(root_folder, folder))\n",
    "    folder_name = folder\n",
    "    dfs[folder_name] = []\n",
    "    if isFolder:\n",
    "        for file in os.listdir(os.path.join(root_folder, folder)):\n",
    "            print(file)\n",
    "            if file.endswith(\".csv\"):\n",
    "                print(\"Processing file: \", file)\n",
    "                df = pd.read_csv(os.path.join(root_folder, folder, file), header=1)\n",
    "                # merge with previous dataframes\n",
    "                # remove the fist 256 rows since there might be some noise in the beginning\n",
    "                df = df[pad:-pad]\n",
    "                dfs[folder_name].append(df) \n",
    "                "
   ]
  },
  {
   "cell_type": "code",
   "execution_count": 65,
   "metadata": {},
   "outputs": [],
   "source": [
    "eeg_columns = [\"EEG.AF3\", \"EEG.F7\", \"EEG.F3\", \"EEG.FC5\", \"EEG.T7\", \"EEG.P7\", \"EEG.O1\", \"EEG.O2\", \"EEG.P8\", \"EEG.T8\", \"EEG.FC6\", \"EEG.F4\", \"EEG.F8\", \"EEG.AF4\"]"
   ]
  },
  {
   "cell_type": "code",
   "execution_count": 66,
   "metadata": {},
   "outputs": [],
   "source": [
    "import numpy as np\n",
    "import pandas as pd\n",
    "from scipy.signal import butter, filtfilt, lfilter\n",
    "\n",
    "def butter_bandpass(lowcut, highcut, fs, order=4):\n",
    "    nyquist = 0.5 * fs\n",
    "    low = lowcut / nyquist\n",
    "    high = highcut / nyquist\n",
    "    b, a = butter(order, [low, high], btype='band')\n",
    "    return b, a\n",
    "\n",
    "def bandpass_filter(data, lowcut, highcut, fs, order=4):\n",
    "    b, a = butter_bandpass(lowcut, highcut, fs, order=order)\n",
    "    y = lfilter(b, a, data)\n",
    "    # y = filtfilt(b, a, data)\n",
    "    return y"
   ]
  },
  {
   "cell_type": "code",
   "execution_count": 67,
   "metadata": {},
   "outputs": [],
   "source": [
    "import numpy as np\n",
    "import matplotlib.pyplot as plt\n",
    "from scipy.signal import stft\n",
    "\n",
    "def compute_stft_for_segment(segment, fs, n_fft=256, hop_length=128):\n",
    "    \"\"\"\n",
    "    Compute STFT for a multi-channel EEG segment.\n",
    "    Args:\n",
    "        segment: 2D array of shape (256, 14), where rows are time points and columns are channels.\n",
    "        fs: Sampling frequency in Hz.\n",
    "        n_fft: Number of FFT points.\n",
    "        hop_length: Number of overlapping samples between windows.\n",
    "    Returns:\n",
    "        stft_results: 3D array of shape (n_channels, n_freq_bins, n_time_frames)\n",
    "                      containing the magnitude spectrograms for each channel.\n",
    "    \"\"\"\n",
    "    n_channels = segment.shape[1]\n",
    "    stft_results = []\n",
    "    \n",
    "    for ch in range(n_channels):\n",
    "        # Compute STFT for each channel\n",
    "        _, _, Zxx = stft(segment[:, ch], fs, nperseg=n_fft, noverlap=hop_length)\n",
    "        stft_results.append(np.abs(Zxx))  # Use magnitude spectrogram\n",
    "    \n",
    "    return np.array(stft_results)  # Shape: (n_channels, n_freq_bins, n_time_frames)\n"
   ]
  },
  {
   "cell_type": "code",
   "execution_count": 68,
   "metadata": {},
   "outputs": [
    {
     "name": "stdout",
     "output_type": "stream",
     "text": [
      "9\n",
      "0\n",
      "7\n",
      "6\n",
      "1\n",
      "8\n",
      "4\n",
      "3\n",
      "2\n",
      "5\n"
     ]
    }
   ],
   "source": [
    "train = {}\n",
    "\n",
    "lowcut = 0.5\n",
    "highcut = 30\n",
    "fs = 128\n",
    "\n",
    "for key in dfs.keys():\n",
    "    train[key] = []\n",
    "    print(key)\n",
    "    min = np.inf\n",
    "    max = -np.inf\n",
    "    for df in dfs[key]:\n",
    "        # split the data by 256 samples\n",
    "        for i in range(0, len(df), 256):\n",
    "            if i + 256 < len(df):\n",
    "                data = df[i:i+256][eeg_columns].values\n",
    "                # apply bandpass filter\n",
    "                data = bandpass_filter(data, lowcut, highcut, fs)\n",
    "                extracted = compute_stft_for_segment(data, fs)\n",
    "                if extracted.min() < min:\n",
    "                    min = extracted.min()\n",
    "                if extracted.max() > max:\n",
    "                    max = extracted.max()\n",
    "                train[key].append(extracted)\n",
    "    # normalize the data for consistency\n",
    "    train[key] = (train[key] - min) / (max - min)\n",
    "    # change to cnn input\n",
    "    train[key] = np.array(train[key])\n",
    "    num_samples, num_channels, height, width = train[key].shape\n",
    "    # train[key] = train[key].reshape(num_samples, num_channels, height, width)\n",
    "    # merge the 14 channels in to one picture\n",
    "\n",
    "# save min and max values\n",
    "np.save(\"min_stft.npy\", min)\n",
    "np.save(\"max_stft.npy\", max)"
   ]
  },
  {
   "cell_type": "code",
   "execution_count": 69,
   "metadata": {},
   "outputs": [
    {
     "data": {
      "text/plain": [
       "(23, 14, 129, 3)"
      ]
     },
     "execution_count": 69,
     "metadata": {},
     "output_type": "execute_result"
    }
   ],
   "source": [
    "train[\"0\"].shape # we treat them as image"
   ]
  },
  {
   "cell_type": "code",
   "execution_count": 70,
   "metadata": {},
   "outputs": [
    {
     "name": "stdout",
     "output_type": "stream",
     "text": [
      "[9 9 9 9 9 9 9 9 9 9 9 9 9 9 9 9 9 9 9 9 0 0 0 0 0 0 0 0 0 0 0 0 0 0 0 0 0\n",
      " 0 0 0 0 0 0 7 7 7 7 7 7 7 7 7 7 7 7 7 7 7 7 7 7 7 6 6 6 6 6 6 6 6 6 6 6 6\n",
      " 6 6 6 6 6 6 1 1 1 1 1 1 1 1 1 1 1 1 1 1 1 1 1 1 8 8 8 8 8 8 8 8 8 8 8 8 8\n",
      " 8 8 8 8 8 8 8 8 8 4 4 4 4 4 4 4 4 4 4 4 4 4 4 4 4 4 4 4 4 4 3 3 3 3 3 3 3\n",
      " 3 3 3 3 3 3 3 3 3 3 3 3 2 2 2 2 2 2 2 2 2 2 2 2 2 2 2 2 2 2 2 5 5 5 5 5 5\n",
      " 5 5 5 5 5 5 5 5 5 5 5 5 5 5]\n",
      "10\n"
     ]
    }
   ],
   "source": [
    "import pandas as pd\n",
    "\n",
    "# Combine data from the dictionary\n",
    "X = []\n",
    "y = []\n",
    "labels = []\n",
    "\n",
    "for label, data in train.items():\n",
    "    X.append(data)  # Add all the spectrograms\n",
    "    y.extend([label] * data.shape[0])  # Extend labels for each sample\n",
    "    # create a mapping of the labels\n",
    "    labels.append(label)\n",
    "    \n",
    "# use categorical encoding\n",
    "from sklearn.preprocessing import LabelEncoder\n",
    "\n",
    "le = LabelEncoder()\n",
    "y = le.fit_transform(y)\n",
    "\n",
    "# Convert to numpy arrays\n",
    "X = np.concatenate(X, axis=0)\n",
    "y = np.array(y)\n",
    "# change y to categorical\n",
    "y = le.transform(y)\n",
    "\n",
    "print(y)\n",
    "# labels count\n",
    "print(len(le.classes_))\n",
    "\n",
    "outputs = len(le.classes_)"
   ]
  },
  {
   "cell_type": "code",
   "execution_count": 71,
   "metadata": {},
   "outputs": [
    {
     "data": {
      "text/plain": [
       "array([9, 9, 9, 9, 9, 9, 9, 9, 9, 9, 9, 9, 9, 9, 9, 9, 9, 9, 9, 9, 0, 0,\n",
       "       0, 0, 0, 0, 0, 0, 0, 0, 0, 0, 0, 0, 0, 0, 0, 0, 0, 0, 0, 0, 0, 7,\n",
       "       7, 7, 7, 7, 7, 7, 7, 7, 7, 7, 7, 7, 7, 7, 7, 7, 7, 7, 6, 6, 6, 6,\n",
       "       6, 6, 6, 6, 6, 6, 6, 6, 6, 6, 6, 6, 6, 6, 1, 1, 1, 1, 1, 1, 1, 1,\n",
       "       1, 1, 1, 1, 1, 1, 1, 1, 1, 1, 8, 8, 8, 8, 8, 8, 8, 8, 8, 8, 8, 8,\n",
       "       8, 8, 8, 8, 8, 8, 8, 8, 8, 8, 4, 4, 4, 4, 4, 4, 4, 4, 4, 4, 4, 4,\n",
       "       4, 4, 4, 4, 4, 4, 4, 4, 4, 3, 3, 3, 3, 3, 3, 3, 3, 3, 3, 3, 3, 3,\n",
       "       3, 3, 3, 3, 3, 3, 2, 2, 2, 2, 2, 2, 2, 2, 2, 2, 2, 2, 2, 2, 2, 2,\n",
       "       2, 2, 2, 5, 5, 5, 5, 5, 5, 5, 5, 5, 5, 5, 5, 5, 5, 5, 5, 5, 5, 5,\n",
       "       5])"
      ]
     },
     "execution_count": 71,
     "metadata": {},
     "output_type": "execute_result"
    }
   ],
   "source": [
    "y"
   ]
  },
  {
   "cell_type": "code",
   "execution_count": 72,
   "metadata": {},
   "outputs": [
    {
     "data": {
      "text/plain": [
       "(199, 14, 129, 3)"
      ]
     },
     "execution_count": 72,
     "metadata": {},
     "output_type": "execute_result"
    }
   ],
   "source": [
    "X.shape"
   ]
  },
  {
   "cell_type": "code",
   "execution_count": 73,
   "metadata": {},
   "outputs": [
    {
     "name": "stdout",
     "output_type": "stream",
     "text": [
      "X shape: (199, 14, 129, 3)\n",
      "y shape: (199,)\n",
      "Training set shape: (139, 14, 129, 3)\n",
      "Validation set shape: (30, 14, 129, 3)\n",
      "Test set shape: (30, 14, 129, 3)\n"
     ]
    }
   ],
   "source": [
    "from sklearn.model_selection import train_test_split\n",
    "\n",
    "print(\"X shape:\", X.shape)\n",
    "print(\"y shape:\", y.shape)\n",
    "\n",
    "# Split data into train, validation, and test sets\n",
    "X_train, X_temp, y_train, y_temp = train_test_split(X, y, test_size=0.3, random_state=42)\n",
    "X_val, X_test, y_val, y_test = train_test_split(X_temp, y_temp, test_size=0.5, random_state=42)\n",
    "\n",
    "print(\"Training set shape:\", X_train.shape)\n",
    "print(\"Validation set shape:\", X_val.shape)\n",
    "print(\"Test set shape:\", X_test.shape)"
   ]
  },
  {
   "cell_type": "code",
   "execution_count": 76,
   "metadata": {},
   "outputs": [
    {
     "name": "stdout",
     "output_type": "stream",
     "text": [
      "[1 9 8 2 6 2 6 6 4 2 2 3 6 0 1 1 7 7 1 3 9 4 1 2 6 5 3 9 9 4 5 7 5 2 8 6 4\n",
      " 4 6 6 5 0 0 3 3 0 9 2 4 8 7 9 4 8 1 4 1 2 5 2]\n",
      "[4 0 9 0 8 0 6 4 4 7 8 2 0 8 8 0 4 1 2 9 6 7 8 5 4 0 7 0 2 8 0 9 5 3 9 0 5\n",
      " 9 0 8 3 5 3 9 6 8 3 9 2 3 6 8 6 7 5 0 0 4 3 3 0 0 3 3 1 8 6 1 0 2 7 1 3 7\n",
      " 4 9 8 7 4 5 3 5 7 1 0 9 8 1 1 2 5 1 9 9 7 2 4 9 6 2 4 2 5 6 7 8 7 5 7 7 1\n",
      " 0 7 2 5 4 0 3 5 9 7 3 4 3 8 8 8 1 6 4 5 0 5 6 8 9 1 5 8]\n"
     ]
    }
   ],
   "source": [
    "print(y_temp)\n",
    "print(y_train)"
   ]
  },
  {
   "cell_type": "code",
   "execution_count": 77,
   "metadata": {},
   "outputs": [],
   "source": [
    "import torch\n",
    "from torch.utils.data import Dataset, DataLoader\n",
    "\n",
    "class EEGDataset(Dataset):\n",
    "    def __init__(self, data, labels):\n",
    "        \"\"\"\n",
    "        Args:\n",
    "            data: A NumPy array of shape (num_samples, channels, height, width).\n",
    "            labels: A NumPy array of shape (num_samples,) with classification labels.\n",
    "        \"\"\"\n",
    "        self.data = torch.tensor(data, dtype=torch.float32)  # Convert data to tensor\n",
    "        self.labels = torch.tensor(labels, dtype=torch.long)  # Convert labels to tensor\n",
    "\n",
    "    def __len__(self):\n",
    "        return len(self.data)\n",
    "\n",
    "    def __getitem__(self, idx):\n",
    "        x = self.data[idx]  # Shape: (channels, height, width)\n",
    "        y = self.labels[idx]  # Shape: ()\n",
    "        return x, y\n",
    "\n",
    "# Create PyTorch Datasets\n",
    "train_dataset = EEGDataset(X_train, y_train)\n",
    "val_dataset = EEGDataset(X_val, y_val)\n",
    "test_dataset = EEGDataset(X_test, y_test)\n"
   ]
  },
  {
   "cell_type": "code",
   "execution_count": 78,
   "metadata": {},
   "outputs": [
    {
     "name": "stdout",
     "output_type": "stream",
     "text": [
      "EEGCNN(\n",
      "  (conv1): Conv2d(14, 16, kernel_size=(3, 3), stride=(1, 1), padding=(1, 1))\n",
      "  (pool1): MaxPool2d(kernel_size=(2, 1), stride=(2, 1), padding=0, dilation=1, ceil_mode=False)\n",
      "  (conv2): Conv2d(16, 32, kernel_size=(3, 3), stride=(1, 1), padding=(1, 1))\n",
      "  (pool2): MaxPool2d(kernel_size=(2, 1), stride=(2, 1), padding=0, dilation=1, ceil_mode=False)\n",
      "  (conv3): Conv2d(32, 64, kernel_size=(3, 3), stride=(1, 1), padding=(1, 1))\n",
      "  (pool3): MaxPool2d(kernel_size=(2, 1), stride=(2, 1), padding=0, dilation=1, ceil_mode=False)\n",
      "  (fc1): Linear(in_features=3072, out_features=128, bias=True)\n",
      "  (fc2): Linear(in_features=128, out_features=10, bias=True)\n",
      ")\n"
     ]
    }
   ],
   "source": [
    "import torch.nn as nn\n",
    "import torch.nn.functional as F\n",
    "\n",
    "class EEGCNN(nn.Module):\n",
    "    def __init__(self, input_channels, num_classes):\n",
    "        super(EEGCNN, self).__init__()\n",
    "        self.conv1 = nn.Conv2d(input_channels, 16, kernel_size=3, stride=1, padding=(1, 1))  # Conv1\n",
    "        self.pool1 = nn.MaxPool2d(kernel_size=(2, 1))  # Pool only height\n",
    "\n",
    "        self.conv2 = nn.Conv2d(16, 32, kernel_size=3, stride=1, padding=(1, 1))  # Conv2\n",
    "        self.pool2 = nn.MaxPool2d(kernel_size=(2, 1))  # Pool only height\n",
    "\n",
    "        self.conv3 = nn.Conv2d(32, 64, kernel_size=3, stride=1, padding=(1, 1))  # Conv3\n",
    "        self.pool3 = nn.MaxPool2d(kernel_size=(2, 1))  # Pool only height\n",
    "\n",
    "        # Calculate flattened size\n",
    "        self.fc1 = nn.Linear(64 * (129 // 8) * 3, 128)  # Adjust for reduced height and fixed width\n",
    "        self.fc2 = nn.Linear(128, num_classes)\n",
    "\n",
    "    def forward(self, x):\n",
    "        x = F.relu(self.conv1(x))\n",
    "        x = self.pool1(x)\n",
    "        x = F.relu(self.conv2(x))\n",
    "        x = self.pool2(x)\n",
    "        x = F.relu(self.conv3(x))\n",
    "        x = self.pool3(x)\n",
    "        x = x.view(x.size(0), -1)  # Flatten\n",
    "        x = F.relu(self.fc1(x))\n",
    "        x = self.fc2(x)\n",
    "        return x\n",
    "\n",
    "# Define model\n",
    "input_channels = X_train.shape[1]  # Number of channels in the input data\n",
    "num_classes = len(le.classes_)  # Number of classes\n",
    "model = EEGCNN(input_channels, num_classes)\n",
    "print(model)"
   ]
  },
  {
   "cell_type": "code",
   "execution_count": 79,
   "metadata": {},
   "outputs": [],
   "source": [
    "import torch.optim as optim\n",
    "\n",
    "# Define loss and optimizer\n",
    "criterion = nn.CrossEntropyLoss()\n",
    "optimizer = optim.Adam(model.parameters(), lr=0.001)\n",
    "\n",
    "# Training function\n",
    "def train_model(model, train_loader, val_loader, num_epochs):\n",
    "    model.train()\n",
    "    for epoch in range(num_epochs):\n",
    "        running_loss = 0.0\n",
    "        for inputs, labels in train_loader:\n",
    "            optimizer.zero_grad()\n",
    "            outputs = model(inputs)\n",
    "            loss = criterion(outputs, labels)\n",
    "            loss.backward()\n",
    "            optimizer.step()\n",
    "            running_loss += loss.item()\n",
    "        \n",
    "        val_loss, val_acc = validate_model(model, val_loader)\n",
    "        print(f\"Epoch {epoch + 1}/{num_epochs}, Loss: {running_loss:.4f}, Val Loss: {val_loss:.4f}, Val Acc: {val_acc:.4f}\")\n",
    "\n",
    "# Validation function\n",
    "def validate_model(model, val_loader):\n",
    "    model.eval()\n",
    "    val_loss = 0.0\n",
    "    correct = 0\n",
    "    total = 0\n",
    "    with torch.no_grad():\n",
    "        for inputs, labels in val_loader:\n",
    "            outputs = model(inputs)\n",
    "            loss = criterion(outputs, labels)\n",
    "            val_loss += loss.item()\n",
    "            _, predicted = torch.max(outputs, 1)\n",
    "            total += labels.size(0)\n",
    "            correct += (predicted == labels).sum().item()\n",
    "    return val_loss / len(val_loader), correct / total\n",
    "\n",
    "# Train the model\n",
    "def test_model(model, test_loader):\n",
    "    model.eval()\n",
    "    correct = 0\n",
    "    total = 0\n",
    "    with torch.no_grad():\n",
    "        for inputs, labels in test_loader:\n",
    "            outputs = model(inputs)\n",
    "            _, predicted = torch.max(outputs, 1)\n",
    "            total += labels.size(0)\n",
    "            correct += (predicted == labels).sum().item()\n",
    "    print(f\"Test Accuracy: {correct / total:.4f}\")"
   ]
  },
  {
   "cell_type": "code",
   "execution_count": 80,
   "metadata": {},
   "outputs": [
    {
     "name": "stdout",
     "output_type": "stream",
     "text": [
      "Epoch 1/10, Loss: 11.4874, Val Loss: 2.3276, Val Acc: 0.1000\n",
      "Epoch 2/10, Loss: 11.4958, Val Loss: 2.3644, Val Acc: 0.0667\n",
      "Epoch 3/10, Loss: 11.4278, Val Loss: 2.3736, Val Acc: 0.0667\n",
      "Epoch 4/10, Loss: 11.4276, Val Loss: 2.3821, Val Acc: 0.0667\n",
      "Epoch 5/10, Loss: 11.4344, Val Loss: 2.3720, Val Acc: 0.0667\n",
      "Epoch 6/10, Loss: 11.3780, Val Loss: 2.3673, Val Acc: 0.0667\n",
      "Epoch 7/10, Loss: 11.4234, Val Loss: 2.3676, Val Acc: 0.0667\n",
      "Epoch 8/10, Loss: 11.3601, Val Loss: 2.3749, Val Acc: 0.0667\n",
      "Epoch 9/10, Loss: 11.4704, Val Loss: 2.3949, Val Acc: 0.0667\n",
      "Epoch 10/10, Loss: 11.4208, Val Loss: 2.3805, Val Acc: 0.0667\n",
      "Test Accuracy: 0.0667\n"
     ]
    }
   ],
   "source": [
    "train_loader = DataLoader(train_dataset, batch_size=32, shuffle=True)\n",
    "val_loader = DataLoader(val_dataset, batch_size=32)\n",
    "test_loader = DataLoader(test_dataset, batch_size=32)\n",
    "\n",
    "train_model(model, train_loader, val_loader, num_epochs=10)\n",
    "test_model(model, test_loader)"
   ]
  },
  {
   "cell_type": "code",
   "execution_count": 81,
   "metadata": {},
   "outputs": [
    {
     "data": {
      "image/png": "[encoded data removed]",
      "text/plain": [
       "<Figure size 1000x700 with 2 Axes>"
      ]
     },
     "metadata": {},
     "output_type": "display_data"
    }
   ],
   "source": [
    "# draw confusion matrix\n",
    "from sklearn.metrics import confusion_matrix\n",
    "import seaborn as sns\n",
    "import matplotlib.pyplot as plt\n",
    "\n",
    "def plot_confusion_matrix(y_true, y_pred, labels):\n",
    "    cm = confusion_matrix(y_true, y_pred)\n",
    "    cm = cm / cm.sum(axis=1)[:, np.newaxis]  # Normalize\n",
    "    df_cm = pd.DataFrame(cm, index=labels, columns=labels)\n",
    "    plt.figure(figsize=(10, 7))\n",
    "    sns.heatmap(df_cm, annot=True, cmap=\"Blues\", fmt=\".2f\")\n",
    "    plt.title(\"Confusion Matrix\")\n",
    "    plt.xlabel(\"Predicted Label\")\n",
    "    plt.ylabel(\"True Label\")\n",
    "    plt.show()\n",
    "\n",
    "# Get predictions\n",
    "y_true = []\n",
    "y_pred = []\n",
    "with torch.no_grad():\n",
    "    for inputs, labels in test_loader:\n",
    "        outputs = model(inputs)\n",
    "        _, predicted = torch.max(outputs, 1)\n",
    "        y_true.extend(labels.tolist())\n",
    "        y_pred.extend(predicted.tolist())\n",
    "\n",
    "# Plot confusion matrix\n",
    "plot_confusion_matrix(y_true, y_pred, le.classes_)"
   ]
  },
  {
   "cell_type": "code",
   "execution_count": null,
   "metadata": {},
   "outputs": [],
   "source": []
  }
 ],
 "metadata": {
  "kernelspec": {
   "display_name": ".venv",
   "language": "python",
   "name": "python3"
  },
  "language_info": {
   "codemirror_mode": {
    "name": "ipython",
    "version": 3
   },
   "file_extension": ".py",
   "mimetype": "text/x-python",
   "name": "python",
   "nbconvert_exporter": "python",
   "pygments_lexer": "ipython3",
   "version": "3.11.5"
  }
 },
 "nbformat": 4,
 "nbformat_minor": 2
}
